{
 "cells": [
  {
   "cell_type": "markdown",
   "metadata": {},
   "source": [
    "# ALOHAdielCurveFit: A Jupyter Notebook to fit sinusoidal functions to some of the SCOPE diel data \n",
    "Created 12 Apr 2018 by Jamie Collins, james.r.collins@aya.yale.edu\n",
    "Revision history in GitHub\n",
    "\n",
    "Some of this code inspired by MATLAB scripts developed for Modeling, Data Analysis and Numerical Techniques for Geochemistry (12.747), a course at MIT\n",
    "\n",
    "Dependencies: scipy.optimize, numpy, some others"
   ]
  },
  {
   "cell_type": "markdown",
   "metadata": {},
   "source": [
    "## First, load necessary libraries; let user set working directory"
   ]
  },
  {
   "cell_type": "code",
   "execution_count": 1,
   "metadata": {},
   "outputs": [
    {
     "name": "stdout",
     "output_type": "stream",
     "text": [
      "Working in: /Users/jamesrco/Code/DielALOHA\n"
     ]
    }
   ],
   "source": [
    "# load libraries\n",
    "import numpy as np\n",
    "import csv\n",
    "import os\n",
    "import pandas\n",
    "from datetime import *\n",
    "import pytz\n",
    "import pytz_convert\n",
    "import time\n",
    "from datetime import timedelta\n",
    "import iso8601 # so awesome this exists in python; you may need to install it \n",
    "import matplotlib.pyplot as plt\n",
    "import matplotlib.dates as pltdates\n",
    "from scipy.optimize import curve_fit\n",
    "\n",
    "# user set working directory\n",
    "os.chdir('/Users/jamesrco/Code/DielALOHA/')\n",
    "print(\"Working in:\",os.getcwd())"
   ]
  },
  {
   "cell_type": "markdown",
   "metadata": {},
   "source": [
    "## A test"
   ]
  },
  {
   "cell_type": "code",
   "execution_count": 2,
   "metadata": {},
   "outputs": [],
   "source": [
    "def func(x, a, b, c):\n",
    "    return a * np.exp(-b * x) + c"
   ]
  },
  {
   "cell_type": "code",
   "execution_count": 3,
   "metadata": {},
   "outputs": [
    {
     "data": {
      "image/png": "[encoded data removed]",
      "text/plain": [
       "<matplotlib.figure.Figure at 0x114a24518>"
      ]
     },
     "metadata": {},
     "output_type": "display_data"
    }
   ],
   "source": [
    "xdata = np.linspace(0, 4, 50)\n",
    "y = func(xdata, 2.5, 1.3, 0.5)\n",
    "np.random.seed(1729)\n",
    "y_noise = 0.2 * np.random.normal(size=xdata.size)\n",
    "ydata = y + y_noise\n",
    "plt.plot(xdata, ydata, 'b-', label='data')\n",
    "\n",
    "popt, pcov = curve_fit(func, xdata, ydata)\n",
    "popt\n",
    "plt.plot(xdata, func(xdata, *popt), 'r-',\n",
    "         label='fit: a=%5.3f, b=%5.3f, c=%5.3f' % tuple(popt))\n",
    "\n",
    "popt, pcov = curve_fit(func, xdata, ydata, bounds=(0, [3., 1., 0.5]))\n",
    "popt\n",
    "plt.plot(xdata, func(xdata, *popt), 'g--',\n",
    "         label='fit: a=%5.3f, b=%5.3f, c=%5.3f' % tuple(popt))\n",
    "plt.xlabel('x')\n",
    "plt.ylabel('y')\n",
    "plt.legend()\n",
    "plt.show()"
   ]
  },
  {
   "cell_type": "markdown",
   "metadata": {},
   "source": [
    "## The real deal"
   ]
  },
  {
   "cell_type": "markdown",
   "metadata": {},
   "source": [
    "### Load data, take a peek"
   ]
  },
  {
   "cell_type": "code",
   "execution_count": 4,
   "metadata": {},
   "outputs": [
    {
     "data": {
      "text/html": [
       "<div>\n",
       "<style scoped>\n",
       "    .dataframe tbody tr th:only-of-type {\n",
       "        vertical-align: middle;\n",
       "    }\n",
       "\n",
       "    .dataframe tbody tr th {\n",
       "        vertical-align: top;\n",
       "    }\n",
       "\n",
       "    .dataframe thead th {\n",
       "        text-align: right;\n",
       "    }\n",
       "</style>\n",
       "<table border=\"1\" class=\"dataframe\">\n",
       "  <thead>\n",
       "    <tr style=\"text-align: right;\">\n",
       "      <th></th>\n",
       "      <th>Station</th>\n",
       "      <th>time</th>\n",
       "      <th>Replicate</th>\n",
       "      <th>Timestamp_bottle_closure_GMT_ISO8601</th>\n",
       "      <th>Cysteic_Acid_pmol.L</th>\n",
       "      <th>Cysteinolic_acid_PA.L</th>\n",
       "      <th>DHPS_pmol.L</th>\n",
       "      <th>Isethionic_Acid_pmol.L</th>\n",
       "      <th>Sulfolactic_Acid_pmol.L</th>\n",
       "      <th>Taurine_pmol.L</th>\n",
       "    </tr>\n",
       "  </thead>\n",
       "  <tbody>\n",
       "    <tr>\n",
       "      <th>0</th>\n",
       "      <td>6</td>\n",
       "      <td>700</td>\n",
       "      <td>1</td>\n",
       "      <td>2015-07-26T17:11:00-0000</td>\n",
       "      <td>4.421507</td>\n",
       "      <td>6.949541e+05</td>\n",
       "      <td>56.947953</td>\n",
       "      <td>3.571307</td>\n",
       "      <td>2.645641</td>\n",
       "      <td>19.067415</td>\n",
       "    </tr>\n",
       "    <tr>\n",
       "      <th>1</th>\n",
       "      <td>6</td>\n",
       "      <td>700</td>\n",
       "      <td>2</td>\n",
       "      <td>2015-07-26T17:11:00-0000</td>\n",
       "      <td>0.493252</td>\n",
       "      <td>2.043138e+06</td>\n",
       "      <td>528.974628</td>\n",
       "      <td>14.574636</td>\n",
       "      <td>3.587629</td>\n",
       "      <td>54.789920</td>\n",
       "    </tr>\n",
       "    <tr>\n",
       "      <th>2</th>\n",
       "      <td>6</td>\n",
       "      <td>700</td>\n",
       "      <td>3</td>\n",
       "      <td>2015-07-26T17:11:00-0000</td>\n",
       "      <td>3.071356</td>\n",
       "      <td>1.707758e+06</td>\n",
       "      <td>432.111451</td>\n",
       "      <td>10.481211</td>\n",
       "      <td>6.450681</td>\n",
       "      <td>42.902283</td>\n",
       "    </tr>\n",
       "    <tr>\n",
       "      <th>3</th>\n",
       "      <td>7</td>\n",
       "      <td>1000</td>\n",
       "      <td>1</td>\n",
       "      <td>2015-07-26T20:25:00-0000</td>\n",
       "      <td>7.601564</td>\n",
       "      <td>3.198881e+06</td>\n",
       "      <td>315.924313</td>\n",
       "      <td>12.603545</td>\n",
       "      <td>4.005653</td>\n",
       "      <td>209.026833</td>\n",
       "    </tr>\n",
       "    <tr>\n",
       "      <th>4</th>\n",
       "      <td>7</td>\n",
       "      <td>1000</td>\n",
       "      <td>2</td>\n",
       "      <td>2015-07-26T20:25:00-0000</td>\n",
       "      <td>4.291812</td>\n",
       "      <td>5.744861e+06</td>\n",
       "      <td>771.503512</td>\n",
       "      <td>31.420815</td>\n",
       "      <td>3.718890</td>\n",
       "      <td>65.651715</td>\n",
       "    </tr>\n",
       "    <tr>\n",
       "      <th>5</th>\n",
       "      <td>7</td>\n",
       "      <td>1000</td>\n",
       "      <td>3</td>\n",
       "      <td>2015-07-26T20:25:00-0000</td>\n",
       "      <td>0.592208</td>\n",
       "      <td>4.729765e+06</td>\n",
       "      <td>1527.930893</td>\n",
       "      <td>19.561125</td>\n",
       "      <td>6.248778</td>\n",
       "      <td>51.148806</td>\n",
       "    </tr>\n",
       "    <tr>\n",
       "      <th>6</th>\n",
       "      <td>8</td>\n",
       "      <td>1400</td>\n",
       "      <td>1</td>\n",
       "      <td>2015-07-27T00:29:00-0000</td>\n",
       "      <td>7.195938</td>\n",
       "      <td>5.410413e+06</td>\n",
       "      <td>1761.605319</td>\n",
       "      <td>33.739859</td>\n",
       "      <td>4.320685</td>\n",
       "      <td>71.730329</td>\n",
       "    </tr>\n",
       "    <tr>\n",
       "      <th>7</th>\n",
       "      <td>8</td>\n",
       "      <td>1400</td>\n",
       "      <td>2</td>\n",
       "      <td>2015-07-27T00:29:00-0000</td>\n",
       "      <td>0.466945</td>\n",
       "      <td>1.021502e+07</td>\n",
       "      <td>5043.952082</td>\n",
       "      <td>55.227529</td>\n",
       "      <td>12.421041</td>\n",
       "      <td>94.619387</td>\n",
       "    </tr>\n",
       "    <tr>\n",
       "      <th>8</th>\n",
       "      <td>8</td>\n",
       "      <td>1400</td>\n",
       "      <td>3</td>\n",
       "      <td>2015-07-27T00:29:00-0000</td>\n",
       "      <td>6.103194</td>\n",
       "      <td>4.964977e+06</td>\n",
       "      <td>666.905509</td>\n",
       "      <td>45.784641</td>\n",
       "      <td>2.872352</td>\n",
       "      <td>114.770626</td>\n",
       "    </tr>\n",
       "    <tr>\n",
       "      <th>9</th>\n",
       "      <td>11</td>\n",
       "      <td>1800</td>\n",
       "      <td>1</td>\n",
       "      <td>2015-07-27T04:27:00-0000</td>\n",
       "      <td>2.901025</td>\n",
       "      <td>7.968625e+06</td>\n",
       "      <td>2311.339370</td>\n",
       "      <td>49.955310</td>\n",
       "      <td>2.753558</td>\n",
       "      <td>135.176525</td>\n",
       "    </tr>\n",
       "  </tbody>\n",
       "</table>\n",
       "</div>"
      ],
      "text/plain": [
       "   Station  time  Replicate Timestamp_bottle_closure_GMT_ISO8601  \\\n",
       "0        6   700          1             2015-07-26T17:11:00-0000   \n",
       "1        6   700          2             2015-07-26T17:11:00-0000   \n",
       "2        6   700          3             2015-07-26T17:11:00-0000   \n",
       "3        7  1000          1             2015-07-26T20:25:00-0000   \n",
       "4        7  1000          2             2015-07-26T20:25:00-0000   \n",
       "5        7  1000          3             2015-07-26T20:25:00-0000   \n",
       "6        8  1400          1             2015-07-27T00:29:00-0000   \n",
       "7        8  1400          2             2015-07-27T00:29:00-0000   \n",
       "8        8  1400          3             2015-07-27T00:29:00-0000   \n",
       "9       11  1800          1             2015-07-27T04:27:00-0000   \n",
       "\n",
       "   Cysteic_Acid_pmol.L  Cysteinolic_acid_PA.L  DHPS_pmol.L  \\\n",
       "0             4.421507           6.949541e+05    56.947953   \n",
       "1             0.493252           2.043138e+06   528.974628   \n",
       "2             3.071356           1.707758e+06   432.111451   \n",
       "3             7.601564           3.198881e+06   315.924313   \n",
       "4             4.291812           5.744861e+06   771.503512   \n",
       "5             0.592208           4.729765e+06  1527.930893   \n",
       "6             7.195938           5.410413e+06  1761.605319   \n",
       "7             0.466945           1.021502e+07  5043.952082   \n",
       "8             6.103194           4.964977e+06   666.905509   \n",
       "9             2.901025           7.968625e+06  2311.339370   \n",
       "\n",
       "   Isethionic_Acid_pmol.L  Sulfolactic_Acid_pmol.L  Taurine_pmol.L  \n",
       "0                3.571307                 2.645641       19.067415  \n",
       "1               14.574636                 3.587629       54.789920  \n",
       "2               10.481211                 6.450681       42.902283  \n",
       "3               12.603545                 4.005653      209.026833  \n",
       "4               31.420815                 3.718890       65.651715  \n",
       "5               19.561125                 6.248778       51.148806  \n",
       "6               33.739859                 4.320685       71.730329  \n",
       "7               55.227529                12.421041       94.619387  \n",
       "8               45.784641                 2.872352      114.770626  \n",
       "9               49.955310                 2.753558      135.176525  "
      ]
     },
     "metadata": {},
     "output_type": "display_data"
    },
    {
     "data": {
      "text/html": [
       "<div>\n",
       "<style scoped>\n",
       "    .dataframe tbody tr th:only-of-type {\n",
       "        vertical-align: middle;\n",
       "    }\n",
       "\n",
       "    .dataframe tbody tr th {\n",
       "        vertical-align: top;\n",
       "    }\n",
       "\n",
       "    .dataframe thead th {\n",
       "        text-align: right;\n",
       "    }\n",
       "</style>\n",
       "<table border=\"1\" class=\"dataframe\">\n",
       "  <thead>\n",
       "    <tr style=\"text-align: right;\">\n",
       "      <th></th>\n",
       "      <th>Timestamp_ISO8601</th>\n",
       "      <th>Sum of abundance_cell.uL</th>\n",
       "      <th>Sum of Qc_pg.cell</th>\n",
       "      <th>Sum of Cbiomass_ug.L</th>\n",
       "      <th>Cbiomass_umol.L</th>\n",
       "    </tr>\n",
       "  </thead>\n",
       "  <tbody>\n",
       "    <tr>\n",
       "      <th>0</th>\n",
       "      <td>2015-07-25T07:01:00-10:00</td>\n",
       "      <td>0.976418</td>\n",
       "      <td>14.029181</td>\n",
       "      <td>13.698349</td>\n",
       "      <td>1.140512</td>\n",
       "    </tr>\n",
       "    <tr>\n",
       "      <th>1</th>\n",
       "      <td>2015-07-25T07:04:00-10:00</td>\n",
       "      <td>1.036827</td>\n",
       "      <td>10.866547</td>\n",
       "      <td>11.266727</td>\n",
       "      <td>0.938057</td>\n",
       "    </tr>\n",
       "    <tr>\n",
       "      <th>2</th>\n",
       "      <td>2015-07-25T07:07:00-10:00</td>\n",
       "      <td>1.207168</td>\n",
       "      <td>10.731003</td>\n",
       "      <td>12.954125</td>\n",
       "      <td>1.078549</td>\n",
       "    </tr>\n",
       "    <tr>\n",
       "      <th>3</th>\n",
       "      <td>2015-07-25T07:10:00-10:00</td>\n",
       "      <td>1.088433</td>\n",
       "      <td>10.819991</td>\n",
       "      <td>11.776836</td>\n",
       "      <td>0.980529</td>\n",
       "    </tr>\n",
       "    <tr>\n",
       "      <th>4</th>\n",
       "      <td>2015-07-25T07:13:00-10:00</td>\n",
       "      <td>1.015561</td>\n",
       "      <td>9.844304</td>\n",
       "      <td>9.997491</td>\n",
       "      <td>0.832382</td>\n",
       "    </tr>\n",
       "    <tr>\n",
       "      <th>5</th>\n",
       "      <td>2015-07-25T07:16:00-10:00</td>\n",
       "      <td>1.181247</td>\n",
       "      <td>10.650057</td>\n",
       "      <td>12.580345</td>\n",
       "      <td>1.047428</td>\n",
       "    </tr>\n",
       "    <tr>\n",
       "      <th>6</th>\n",
       "      <td>2015-07-25T07:19:00-10:00</td>\n",
       "      <td>1.070121</td>\n",
       "      <td>10.080352</td>\n",
       "      <td>10.787198</td>\n",
       "      <td>0.898132</td>\n",
       "    </tr>\n",
       "    <tr>\n",
       "      <th>7</th>\n",
       "      <td>2015-07-25T07:22:00-10:00</td>\n",
       "      <td>0.976476</td>\n",
       "      <td>10.383692</td>\n",
       "      <td>10.139423</td>\n",
       "      <td>0.844199</td>\n",
       "    </tr>\n",
       "    <tr>\n",
       "      <th>8</th>\n",
       "      <td>2015-07-25T07:25:00-10:00</td>\n",
       "      <td>1.123217</td>\n",
       "      <td>9.155938</td>\n",
       "      <td>10.284105</td>\n",
       "      <td>0.856245</td>\n",
       "    </tr>\n",
       "    <tr>\n",
       "      <th>9</th>\n",
       "      <td>2015-07-25T07:28:00-10:00</td>\n",
       "      <td>1.038736</td>\n",
       "      <td>9.513941</td>\n",
       "      <td>9.882473</td>\n",
       "      <td>0.822806</td>\n",
       "    </tr>\n",
       "  </tbody>\n",
       "</table>\n",
       "</div>"
      ],
      "text/plain": [
       "           Timestamp_ISO8601  Sum of abundance_cell.uL  Sum of Qc_pg.cell  \\\n",
       "0  2015-07-25T07:01:00-10:00                  0.976418          14.029181   \n",
       "1  2015-07-25T07:04:00-10:00                  1.036827          10.866547   \n",
       "2  2015-07-25T07:07:00-10:00                  1.207168          10.731003   \n",
       "3  2015-07-25T07:10:00-10:00                  1.088433          10.819991   \n",
       "4  2015-07-25T07:13:00-10:00                  1.015561           9.844304   \n",
       "5  2015-07-25T07:16:00-10:00                  1.181247          10.650057   \n",
       "6  2015-07-25T07:19:00-10:00                  1.070121          10.080352   \n",
       "7  2015-07-25T07:22:00-10:00                  0.976476          10.383692   \n",
       "8  2015-07-25T07:25:00-10:00                  1.123217           9.155938   \n",
       "9  2015-07-25T07:28:00-10:00                  1.038736           9.513941   \n",
       "\n",
       "   Sum of Cbiomass_ug.L  Cbiomass_umol.L  \n",
       "0             13.698349         1.140512  \n",
       "1             11.266727         0.938057  \n",
       "2             12.954125         1.078549  \n",
       "3             11.776836         0.980529  \n",
       "4              9.997491         0.832382  \n",
       "5             12.580345         1.047428  \n",
       "6             10.787198         0.898132  \n",
       "7             10.139423         0.844199  \n",
       "8             10.284105         0.856245  \n",
       "9              9.882473         0.822806  "
      ]
     },
     "metadata": {},
     "output_type": "display_data"
    }
   ],
   "source": [
    "dielSulfonates_raw = pandas.read_csv('data/sulfonates/sulfonates_BD.csv')\n",
    "dielSeaFlow_raw = pandas.read_csv('data/seaflow/seaflow_biomassDIEL_jorJamie.csv')\n",
    "\n",
    "display(dielSulfonates_raw.head(n=10))\n",
    "display(dielSeaFlow_raw.head(n=10))"
   ]
  },
  {
   "cell_type": "markdown",
   "metadata": {},
   "source": [
    "### Do some data cleaning"
   ]
  },
  {
   "cell_type": "code",
   "execution_count": 5,
   "metadata": {},
   "outputs": [
    {
     "data": {
      "text/html": [
       "<div>\n",
       "<style scoped>\n",
       "    .dataframe tbody tr th:only-of-type {\n",
       "        vertical-align: middle;\n",
       "    }\n",
       "\n",
       "    .dataframe tbody tr th {\n",
       "        vertical-align: top;\n",
       "    }\n",
       "\n",
       "    .dataframe thead th {\n",
       "        text-align: right;\n",
       "    }\n",
       "</style>\n",
       "<table border=\"1\" class=\"dataframe\">\n",
       "  <thead>\n",
       "    <tr style=\"text-align: right;\">\n",
       "      <th></th>\n",
       "      <th>Timestamp_ISO8601</th>\n",
       "      <th>Sum of abundance_cell.uL</th>\n",
       "      <th>Sum of Qc_pg.cell</th>\n",
       "      <th>Sum of Cbiomass_ug.L</th>\n",
       "      <th>Cbiomass_umol.L</th>\n",
       "    </tr>\n",
       "  </thead>\n",
       "  <tbody>\n",
       "    <tr>\n",
       "      <th>0</th>\n",
       "      <td>2015-07-25 07:01:00-10:00</td>\n",
       "      <td>0.976418</td>\n",
       "      <td>14.029181</td>\n",
       "      <td>13.698349</td>\n",
       "      <td>1.140512</td>\n",
       "    </tr>\n",
       "    <tr>\n",
       "      <th>1</th>\n",
       "      <td>2015-07-25 07:04:00-10:00</td>\n",
       "      <td>1.036827</td>\n",
       "      <td>10.866547</td>\n",
       "      <td>11.266727</td>\n",
       "      <td>0.938057</td>\n",
       "    </tr>\n",
       "    <tr>\n",
       "      <th>2</th>\n",
       "      <td>2015-07-25 07:07:00-10:00</td>\n",
       "      <td>1.207168</td>\n",
       "      <td>10.731003</td>\n",
       "      <td>12.954125</td>\n",
       "      <td>1.078549</td>\n",
       "    </tr>\n",
       "  </tbody>\n",
       "</table>\n",
       "</div>"
      ],
      "text/plain": [
       "          Timestamp_ISO8601  Sum of abundance_cell.uL  Sum of Qc_pg.cell  \\\n",
       "0 2015-07-25 07:01:00-10:00                  0.976418          14.029181   \n",
       "1 2015-07-25 07:04:00-10:00                  1.036827          10.866547   \n",
       "2 2015-07-25 07:07:00-10:00                  1.207168          10.731003   \n",
       "\n",
       "   Sum of Cbiomass_ug.L  Cbiomass_umol.L  \n",
       "0             13.698349         1.140512  \n",
       "1             11.266727         0.938057  \n",
       "2             12.954125         1.078549  "
      ]
     },
     "metadata": {},
     "output_type": "display_data"
    },
    {
     "data": {
      "text/html": [
       "<div>\n",
       "<style scoped>\n",
       "    .dataframe tbody tr th:only-of-type {\n",
       "        vertical-align: middle;\n",
       "    }\n",
       "\n",
       "    .dataframe tbody tr th {\n",
       "        vertical-align: top;\n",
       "    }\n",
       "\n",
       "    .dataframe thead th {\n",
       "        text-align: right;\n",
       "    }\n",
       "</style>\n",
       "<table border=\"1\" class=\"dataframe\">\n",
       "  <thead>\n",
       "    <tr style=\"text-align: right;\">\n",
       "      <th></th>\n",
       "      <th>Station</th>\n",
       "      <th>time</th>\n",
       "      <th>Replicate</th>\n",
       "      <th>Timestamp_bottle_closure_GMT_ISO8601</th>\n",
       "      <th>Cysteic_Acid_pmol.L</th>\n",
       "      <th>Cysteinolic_acid_PA.L</th>\n",
       "      <th>DHPS_pmol.L</th>\n",
       "      <th>Isethionic_Acid_pmol.L</th>\n",
       "      <th>Sulfolactic_Acid_pmol.L</th>\n",
       "      <th>Taurine_pmol.L</th>\n",
       "    </tr>\n",
       "  </thead>\n",
       "  <tbody>\n",
       "    <tr>\n",
       "      <th>0</th>\n",
       "      <td>6</td>\n",
       "      <td>700</td>\n",
       "      <td>1</td>\n",
       "      <td>2015-07-26 07:11:00-10:00</td>\n",
       "      <td>4.421507</td>\n",
       "      <td>6.949541e+05</td>\n",
       "      <td>56.947953</td>\n",
       "      <td>3.571307</td>\n",
       "      <td>2.645641</td>\n",
       "      <td>19.067415</td>\n",
       "    </tr>\n",
       "    <tr>\n",
       "      <th>1</th>\n",
       "      <td>6</td>\n",
       "      <td>700</td>\n",
       "      <td>2</td>\n",
       "      <td>2015-07-26 07:11:00-10:00</td>\n",
       "      <td>0.493252</td>\n",
       "      <td>2.043138e+06</td>\n",
       "      <td>528.974628</td>\n",
       "      <td>14.574636</td>\n",
       "      <td>3.587629</td>\n",
       "      <td>54.789920</td>\n",
       "    </tr>\n",
       "    <tr>\n",
       "      <th>2</th>\n",
       "      <td>6</td>\n",
       "      <td>700</td>\n",
       "      <td>3</td>\n",
       "      <td>2015-07-26 07:11:00-10:00</td>\n",
       "      <td>3.071356</td>\n",
       "      <td>1.707758e+06</td>\n",
       "      <td>432.111451</td>\n",
       "      <td>10.481211</td>\n",
       "      <td>6.450681</td>\n",
       "      <td>42.902283</td>\n",
       "    </tr>\n",
       "  </tbody>\n",
       "</table>\n",
       "</div>"
      ],
      "text/plain": [
       "   Station  time  Replicate Timestamp_bottle_closure_GMT_ISO8601  \\\n",
       "0        6   700          1            2015-07-26 07:11:00-10:00   \n",
       "1        6   700          2            2015-07-26 07:11:00-10:00   \n",
       "2        6   700          3            2015-07-26 07:11:00-10:00   \n",
       "\n",
       "   Cysteic_Acid_pmol.L  Cysteinolic_acid_PA.L  DHPS_pmol.L  \\\n",
       "0             4.421507           6.949541e+05    56.947953   \n",
       "1             0.493252           2.043138e+06   528.974628   \n",
       "2             3.071356           1.707758e+06   432.111451   \n",
       "\n",
       "   Isethionic_Acid_pmol.L  Sulfolactic_Acid_pmol.L  Taurine_pmol.L  \n",
       "0                3.571307                 2.645641       19.067415  \n",
       "1               14.574636                 3.587629       54.789920  \n",
       "2               10.481211                 6.450681       42.902283  "
      ]
     },
     "metadata": {},
     "output_type": "display_data"
    }
   ],
   "source": [
    "dielSulfonates = dielSulfonates_raw.copy()\n",
    "dielSeaFlow = dielSeaFlow_raw.copy()\n",
    "\n",
    "# parse and convert dates, ensure all in HST, then store\n",
    "dielSulfonates['Timestamp_bottle_closure_GMT_ISO8601'] = (\n",
    "    dielSulfonates_raw['Timestamp_bottle_closure_GMT_ISO8601'].apply(iso8601.parse_date))\n",
    "dielSulfonates['Timestamp_bottle_closure_GMT_ISO8601'] = (\n",
    "    dielSulfonates['Timestamp_bottle_closure_GMT_ISO8601'].apply(\n",
    "        lambda x: datetime.astimezone(x, pytz.timezone('Pacific/Honolulu'))))\n",
    "\n",
    "dielSeaFlow['Timestamp_ISO8601'] = (\n",
    "    dielSeaFlow_raw['Timestamp_ISO8601'].apply(iso8601.parse_date))\n",
    "dielSeaFlow['Timestamp_ISO8601'] = (\n",
    "    dielSeaFlow['Timestamp_ISO8601'].apply(\n",
    "        lambda x: datetime.astimezone(x, pytz.timezone('Pacific/Honolulu'))))\n",
    "\n",
    "# take a look again at new objects\n",
    "display(dielSeaFlow.head(n=3))\n",
    "display(dielSulfonates.head(n=3))"
   ]
  },
  {
   "cell_type": "markdown",
   "metadata": {},
   "source": [
    "### Analysis\n",
    "#### Sulfonate data: DHPS"
   ]
  },
  {
   "cell_type": "markdown",
   "metadata": {},
   "source": [
    "First, let's take a look at a quick plot"
   ]
  },
  {
   "cell_type": "code",
   "execution_count": 6,
   "metadata": {},
   "outputs": [
    {
     "data": {
      "image/png": "[encoded data removed]",
      "text/plain": [
       "<matplotlib.figure.Figure at 0x114a41748>"
      ]
     },
     "metadata": {},
     "output_type": "display_data"
    }
   ],
   "source": [
    "# after much searching, seems like easiest way to get the time ticks in these plots to come out right is to\n",
    "# change matplotlib's base timezone for the time being\n",
    "# probably a bad idea since, so we'll make sure to restore current setting after plotting\n",
    "\n",
    "# get, store current setting\n",
    "current_matplotTZ = plt.rcParams['timezone']\n",
    "# set to 'Pacific/Honolulu' temporarily\n",
    "plt.rcParams['timezone'] = 'Pacific/Honolulu' \n",
    "        \n",
    "fig = plt.figure(figsize=(14, 7))\n",
    "\n",
    "ax1 = fig.add_subplot(111)\n",
    "ax1.plot(dielSulfonates['Timestamp_bottle_closure_GMT_ISO8601'],dielSulfonates['DHPS_pmol.L'], 'b.')\n",
    "ax1.xaxis.set_major_locator(pltdates.DayLocator(interval=1))\n",
    "ax1.xaxis.set_minor_locator(pltdates.HourLocator(byhour=12))\n",
    "ax1.xaxis.set_major_formatter(pltdates.DateFormatter('%H:%M%\\n%b %d %Y')) \n",
    "ax1.xaxis.set_minor_formatter(pltdates.DateFormatter('%H:%M')) \n",
    "ax1.xaxis_date(pytz.timezone('Pacific/Honolulu'))\n",
    "\n",
    "#ax2 = ax1.twinx()\n",
    "#ax2.plot(dielSeaFlow['Timestamp_ISO8601'],dielSeaFlow['Cbiomass_umol.L'], 'r-')\n",
    "\n",
    "#ax2.set_ylim(0.4, 1.8)\n",
    "\n",
    "# set matplotlib timezone back\n",
    "plt.rcParams['timezone'] = current_matplotTZ"
   ]
  },
  {
   "cell_type": "markdown",
   "metadata": {},
   "source": [
    "Before curve fitting, have to excise some NaNs and convert the timestamp field to a different data type"
   ]
  },
  {
   "cell_type": "code",
   "execution_count": 7,
   "metadata": {},
   "outputs": [
    {
     "name": "stdout",
     "output_type": "stream",
     "text": [
      "Starting as: <class 'pandas._libs.tslib.Timestamp'> , datetime64[ns, Pacific/Honolulu]\n"
     ]
    },
    {
     "data": {
      "text/plain": [
       "0   2015-07-26 07:11:00-10:00\n",
       "1   2015-07-26 07:11:00-10:00\n",
       "2   2015-07-26 07:11:00-10:00\n",
       "Name: Timestamp_bottle_closure_GMT_ISO8601, dtype: datetime64[ns, Pacific/Honolulu]"
      ]
     },
     "metadata": {},
     "output_type": "display_data"
    },
    {
     "name": "stdout",
     "output_type": "stream",
     "text": [
      "After converting: <class 'pandas._libs.tslib.Timedelta'> , timedelta64[ns]\n"
     ]
    },
    {
     "data": {
      "text/plain": [
       "0    00:00:00\n",
       "1    00:00:00\n",
       "2    00:00:00\n",
       "3    03:14:00\n",
       "4    03:14:00\n",
       "5    03:14:00\n",
       "6    07:18:00\n",
       "7    07:18:00\n",
       "8    07:18:00\n",
       "9    11:16:00\n",
       "10   11:16:00\n",
       "11   11:16:00\n",
       "12   15:35:00\n",
       "13   15:35:00\n",
       "14   15:35:00\n",
       "15   19:16:00\n",
       "16   19:16:00\n",
       "17   19:16:00\n",
       "18   23:15:00\n",
       "19   23:15:00\n",
       "Name: Timestamp_bottle_closure_GMT_ISO8601, dtype: timedelta64[ns]"
      ]
     },
     "metadata": {},
     "output_type": "display_data"
    },
    {
     "name": "stdout",
     "output_type": "stream",
     "text": [
      "Or maybe just as second increments:\n"
     ]
    },
    {
     "data": {
      "text/plain": [
       "0         0.0\n",
       "1         0.0\n",
       "2         0.0\n",
       "3     11640.0\n",
       "4     11640.0\n",
       "5     11640.0\n",
       "6     26280.0\n",
       "7     26280.0\n",
       "8     26280.0\n",
       "9     40560.0\n",
       "10    40560.0\n",
       "11    40560.0\n",
       "12    56100.0\n",
       "13    56100.0\n",
       "14    56100.0\n",
       "15    69360.0\n",
       "16    69360.0\n",
       "17    69360.0\n",
       "18    83700.0\n",
       "19    83700.0\n",
       "Name: Timestamp_bottle_closure_GMT_ISO8601, dtype: float64"
      ]
     },
     "metadata": {},
     "output_type": "display_data"
    }
   ],
   "source": [
    "# remove NaNs\n",
    "TimestampDHPS_noNan = dielSulfonates['Timestamp_bottle_closure_GMT_ISO8601'][~np.isnan(dielSulfonates['DHPS_pmol.L'])]\n",
    "ConcDHPS_noNan = dielSulfonates['DHPS_pmol.L'][~np.isnan(dielSulfonates['DHPS_pmol.L'])]\n",
    "\n",
    "# convert time object\n",
    "print(\"Starting as:\",type(TimestampDHPS_noNan[1]),\",\",TimestampDHPS_noNan.dtypes)\n",
    "display(TimestampDHPS_noNan.head(n=3))\n",
    "\n",
    "TimestampDHPS_secFromStart = TimestampDHPS_noNan-TimestampDHPS_noNan[1]\n",
    "\n",
    "print(\"After converting:\",type(TimestampDHPS_secFromStart[1]),\",\",TimestampDHPS_secFromStart.dtypes)\n",
    "display(TimestampDHPS_secFromStart.head(n=20))\n",
    "\n",
    "TimestampDHPS_secFromStart_alt = (\n",
    "    TimestampDHPS_secFromStart.apply(\n",
    "        lambda x: x.total_seconds()))\n",
    "\n",
    "print(\"Or maybe just as second increments:\")\n",
    "display(TimestampDHPS_secFromStart_alt.head(n=20))"
   ]
  },
  {
   "cell_type": "markdown",
   "metadata": {},
   "source": [
    "Actually do the fitting"
   ]
  },
  {
   "cell_type": "code",
   "execution_count": 8,
   "metadata": {},
   "outputs": [
    {
     "name": "stdout",
     "output_type": "stream",
     "text": [
      "Parameter fits for model where length of period (2nd value) is kept constant:\n"
     ]
    },
    {
     "data": {
      "text/plain": [
       "array([-3.30122369e+04,  8.66480866e+04, -4.01303186e+04, -3.30105357e+04,\n",
       "       -4.01282511e+04, -3.30364811e+04, -4.01198715e+04,  1.36253503e+03,\n",
       "       -3.53984700e-04])"
      ]
     },
     "metadata": {},
     "output_type": "display_data"
    },
    {
     "name": "stdout",
     "output_type": "stream",
     "text": [
      "Parameter fits for model where length of period (2nd, 5th, 8th values) is allowed to vary:\n"
     ]
    },
    {
     "data": {
      "text/plain": [
       "array([-2.71601711e+04,  8.14198627e+04, -4.01788036e+04, -2.71136469e+04,\n",
       "        8.15418313e+04, -4.01620316e+04, -2.64555027e+04,  8.13017468e+04,\n",
       "       -4.00573494e+04,  1.47418318e+03, -1.12164971e-03])"
      ]
     },
     "metadata": {},
     "output_type": "display_data"
    }
   ],
   "source": [
    "# define our function, assuming data is sinusoidal over three periods\n",
    "\n",
    "# function where period is kept constant\n",
    "def multWaves_func_samePer(x, a, b, c, d, e, f, g, h, i):\n",
    "    return a * (np.sin(2 * np.pi / b * x + c )) + (\n",
    "        d * (np.sin(2 * np.pi / b * x + e ))) + (\n",
    "        f * (np.sin(2 * np.pi / b * x + g ))) + h + i * x\n",
    "# a, d, f: amplitudes\n",
    "# b: period\n",
    "# c, e, g: phase\n",
    "# h: y-offset\n",
    "# i: slope of linear trend (if any)\n",
    "\n",
    "# function where period is allowed to vary\n",
    "def multWaves_func_varPer(x, a, b, c, d, e, f, g, h, i, j, k):\n",
    "    return a * np.sin(2 * np.pi / b * x + c ) + (\n",
    "        d * np.sin(2 * np.pi / e * x + f )) + (\n",
    "        g * np.sin(2 * np.pi / h * x + i )) + j + k * x\n",
    "# a, d, g: amplitudes\n",
    "# b, e, h: period\n",
    "# c, f, i: phase\n",
    "# j: y-offset\n",
    "# k: slope of linear trend (if any)\n",
    "\n",
    "\n",
    "# do the fitting\n",
    "popt_samePer, pcov_samePer = curve_fit(multWaves_func_samePer, TimestampDHPS_secFromStart_alt, ConcDHPS_noNan, bounds=(\n",
    "    [-100000, 50000, -100000, -100000, -100000, -100000, -100000, -100000, -100000], (\n",
    "        [15000, 100000, 15000, 15000, 15000, 15000, 15000, 15000, 15000])))\n",
    "popt_varPer, pcov_varPer = curve_fit(multWaves_func_varPer, TimestampDHPS_secFromStart_alt, ConcDHPS_noNan, bounds=(\n",
    "    [-100000, 50000, -100000, -100000, 50000, -100000, -100000, 50000, -100000, -100000, -100000], (\n",
    "        [15000, 100000, 15000, 15000, 100000, 15000, 15000, 100000, 15000, 15000, 15000])))\n",
    "\n",
    "print(\"Parameter fits for model where length of period (2nd value) is kept constant:\")\n",
    "display(popt_samePer)\n",
    "print(\"Parameter fits for model where length of period (2nd, 5th, 8th values) is allowed to vary:\")\n",
    "display(popt_varPer)"
   ]
  },
  {
   "cell_type": "markdown",
   "metadata": {},
   "source": [
    "Now, let's take a look at a plot of the data, with the curve fit (varying period length allowed)"
   ]
  },
  {
   "cell_type": "code",
   "execution_count": 9,
   "metadata": {},
   "outputs": [
    {
     "data": {
      "text/plain": [
       "[<matplotlib.lines.Line2D at 0x151dbac860>]"
      ]
     },
     "execution_count": 9,
     "metadata": {},
     "output_type": "execute_result"
    },
    {
     "data": {
      "image/png": "[encoded data removed]",
      "text/plain": [
       "<matplotlib.figure.Figure at 0x1193b9198>"
      ]
     },
     "metadata": {},
     "output_type": "display_data"
    }
   ],
   "source": [
    "fig = plt.figure(figsize=(14, 7))\n",
    "\n",
    "plt.plot(TimestampDHPS_secFromStart_alt, multWaves_func_varPer(TimestampDHPS_secFromStart_alt, *popt_varPer), 'r.')\n",
    "plt.plot(TimestampDHPS_secFromStart_alt, ConcDHPS_noNan, 'b.')\n",
    "plt.plot(pandas.Series(list(range(0, int(TimestampDHPS_secFromStart_alt[len(TimestampDHPS_secFromStart_alt)-1]), 2000))), multWaves_func_varPer(\n",
    "   pandas.Series(list(range(0, int(TimestampDHPS_secFromStart_alt[len(TimestampDHPS_secFromStart_alt)-1]), 2000))), *popt_varPer), 'g-')"
   ]
  },
  {
   "cell_type": "markdown",
   "metadata": {},
   "source": [
    "A plot of the data, with the curve fit (length of period required to be constant)"
   ]
  },
  {
   "cell_type": "code",
   "execution_count": 10,
   "metadata": {},
   "outputs": [
    {
     "data": {
      "text/plain": [
       "[<matplotlib.lines.Line2D at 0x151dc0cef0>]"
      ]
     },
     "execution_count": 10,
     "metadata": {},
     "output_type": "execute_result"
    },
    {
     "data": {
      "image/png": "[encoded data removed]",
      "text/plain": [
       "<matplotlib.figure.Figure at 0x151dbb7c88>"
      ]
     },
     "metadata": {},
     "output_type": "display_data"
    }
   ],
   "source": [
    "fig = plt.figure(figsize=(14, 7))\n",
    "\n",
    "plt.plot(TimestampDHPS_secFromStart_alt, multWaves_func_samePer(TimestampDHPS_secFromStart_alt, *popt_samePer), 'r.')\n",
    "plt.plot(TimestampDHPS_secFromStart_alt, ConcDHPS_noNan, 'b.')\n",
    "plt.plot(pandas.Series(list(range(0, int(TimestampDHPS_secFromStart_alt[len(TimestampDHPS_secFromStart_alt)-1]), 2000))), multWaves_func_samePer(\n",
    "   pandas.Series(list(range(0, int(TimestampDHPS_secFromStart_alt[len(TimestampDHPS_secFromStart_alt)-1]), 2000))), *popt_samePer), 'g-')"
   ]
  },
  {
   "cell_type": "markdown",
   "metadata": {},
   "source": [
    "Look at the two together"
   ]
  },
  {
   "cell_type": "code",
   "execution_count": 29,
   "metadata": {},
   "outputs": [
    {
     "data": {
      "image/png": "[encoded data removed]",
      "text/plain": [
       "<matplotlib.figure.Figure at 0x151febe400>"
      ]
     },
     "metadata": {},
     "output_type": "display_data"
    }
   ],
   "source": [
    "# get, store current timezone setting\n",
    "current_matplotTZ = plt.rcParams['timezone']\n",
    "# set to 'Pacific/Honolulu' temporarily\n",
    "plt.rcParams['timezone'] = 'Pacific/Honolulu' \n",
    "\n",
    "fig = plt.figure(figsize=(14, 7))\n",
    "\n",
    "ax1 = fig.add_subplot(111)\n",
    "ax1.plot(TimestampDHPS_noNan,ConcDHPS_noNan, 'b.', label = 'DHPS concentration (data)')\n",
    "ax1.xaxis.set_major_locator(pltdates.DayLocator(interval=1))\n",
    "ax1.xaxis.set_minor_locator(pltdates.HourLocator(byhour=12))\n",
    "ax1.xaxis.set_major_formatter(pltdates.DateFormatter('%H:%M%\\n%b %d %Y')) \n",
    "ax1.xaxis.set_minor_formatter(pltdates.DateFormatter('%H:%M')) \n",
    "ax1.xaxis_date(pytz.timezone('Pacific/Honolulu'))\n",
    "plt.ylabel('DHPS concentration (pmol/L)')\n",
    "\n",
    "ax2 = ax1.twiny()\n",
    "ax2.plot(pandas.Series(list(range(0, int(TimestampDHPS_secFromStart_alt[len(TimestampDHPS_secFromStart_alt)-1]), 2000))), multWaves_func_samePer(\n",
    "   pandas.Series(list(range(0, int(TimestampDHPS_secFromStart_alt[len(TimestampDHPS_secFromStart_alt)-1]), 2000))), *popt_samePer), 'g-', label = 'Sinusoidal curve fit with constant period length')\n",
    "ax2.plot(pandas.Series(list(range(0, int(TimestampDHPS_secFromStart_alt[len(TimestampDHPS_secFromStart_alt)-1]), 2000))), multWaves_func_varPer(\n",
    "   pandas.Series(list(range(0, int(TimestampDHPS_secFromStart_alt[len(TimestampDHPS_secFromStart_alt)-1]), 2000))), *popt_varPer), 'r-', label = 'Sinusoidal curve fit with period length allowed to vary')\n",
    "plt.xlabel('Time (seconds since experiment start)')\n",
    "\n",
    "fig.legend(bbox_to_anchor=(.8, .8))\n",
    "\n",
    "# set matplotlib timezone back\n",
    "plt.rcParams['timezone'] = current_matplotTZ\n"
   ]
  }
 ],
 "metadata": {
  "kernelspec": {
   "display_name": "Python 3",
   "language": "python",
   "name": "python3"
  },
  "language_info": {
   "codemirror_mode": {
    "name": "ipython",
    "version": 3
   },
   "file_extension": ".py",
   "mimetype": "text/x-python",
   "name": "python",
   "nbconvert_exporter": "python",
   "pygments_lexer": "ipython3",
   "version": "3.6.4"
  }
 },
 "nbformat": 4,
 "nbformat_minor": 2
}

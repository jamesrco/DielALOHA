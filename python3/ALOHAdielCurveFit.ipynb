{
 "cells": [
  {
   "cell_type": "markdown",
   "metadata": {},
   "source": [
    "# ALOHAdielCurveFit: Jupyter Notebook for \"unbiased\" fitting of sinusoidal functions to some of the SCOPE diel data \n",
    "Created 12 Apr 2018 by Jamie Collins, james.r.collins@aya.yale.edu\n",
    "Revision history in GitHub\n",
    "\n",
    "Some of this code inspired by MATLAB scripts developed for Modeling, Data Analysis and Numerical Techniques for Geochemistry (12.747), a course at MIT\n",
    "\n",
    "Dependencies: scipy.optimize, numpy, some others"
   ]
  },
  {
   "cell_type": "markdown",
   "metadata": {},
   "source": [
    "## Summary of approach; pros and cons"
   ]
  },
  {
   "cell_type": "markdown",
   "metadata": {},
   "source": [
    "1. Objectives:\n",
    "    1. Fit some very simple, fully intepretable models to the SCOPE diel data\n",
    "    2. Obtain estimates of daily minima and maxima in the concentrations of various metabolites, assuming that:\n",
    "        1. The observed minima/maxima don't necessarily reflect the true minima/maxima\n",
    "            1. Our sampling frequency low enough that the scheme wasn't likely sufficient to capture the true range of values\n",
    "        1. The minimum and/or maximum on a given day might be very different than the minimum/maximum on preceding or subsequent days \n",
    "1. Constraints:\n",
    "    1. We would like to use some sort of traditional signal processing (e.g., FFT) for this purpose, but the short length, sparsity, and variance (i.e., wide spread between replicates) of the metabolite data are such that this would be impossible/impractical\n",
    "        1. We could certainly use FFT to analyze the SeaFlow data, but the nature of FFT would prevent us from capturing the frequencies of interest we are assuming are present in the metabolite data\n",
    "        1. An FFT approach also wouldn't produce the curve fits we are seeking to diagnose daily differences in minima, maxima, period, and amplitude\n",
    "        1. Because of our arbitrary sampling timepoints and samping interval, we don't know where the true minima and maxima are\n",
    "1. Desirables:\n",
    "    1. Intepretability of all parameters\n",
    "    1. Some sort of hypothesis testing for each parameter (two-tailed t-test)\n",
    "    1. An approach that requires a minimum number of assumptions and minimizes complexity\n",
    "1. Chosen approach:\n",
    "    1. Fitting of sinusoidal functions\n",
    "        1. Assumes sinusoidal form for all of the data series\n",
    "            1. Many reasons to question validity of this assumption\n",
    "                1. For example, how do we know underlying data have a sinusoidal form? Consider that PAR (the assumed driver of much of this) doesn't really follow a sinusoid.\n",
    "            1. On the other hand, this assumption is as as good as any other at this point and is grounded in many literature observations of metabolite concentrations/cell growth over daily timescales\n",
    "        1. We'll specify only the number of periods (3 or 4), based on time domain of the data available for each variable\n",
    "        1. Amplitude, phase, period, and the underlying linear trend term will all be allowed to vary"
   ]
  },
  {
   "cell_type": "markdown",
   "metadata": {},
   "source": [
    "## First, load necessary libraries; let user set working directory"
   ]
  },
  {
   "cell_type": "code",
   "execution_count": 1,
   "metadata": {},
   "outputs": [
    {
     "name": "stdout",
     "output_type": "stream",
     "text": [
      "Working in: /Users/jamesrco/Code/DielALOHA\n"
     ]
    }
   ],
   "source": [
    "# load libraries\n",
    "import numpy as np\n",
    "import csv\n",
    "import os\n",
    "import pandas\n",
    "from datetime import *\n",
    "import pytz\n",
    "import pytz_convert\n",
    "import time\n",
    "from datetime import timedelta\n",
    "import iso8601 # so awesome this exists in python; you may need to install it \n",
    "import matplotlib.pyplot as plt\n",
    "import matplotlib.dates as pltdates\n",
    "from scipy.optimize import curve_fit\n",
    "from scipy.stats import t \n",
    "\n",
    "# user set working directory\n",
    "os.chdir('/Users/jamesrco/Code/DielALOHA/')\n",
    "print(\"Working in:\",os.getcwd())"
   ]
  },
  {
   "cell_type": "markdown",
   "metadata": {},
   "source": [
    "## A test"
   ]
  },
  {
   "cell_type": "code",
   "execution_count": 2,
   "metadata": {},
   "outputs": [],
   "source": [
    "def func(x, a, b, c):\n",
    "    return a * np.exp(-b * x) + c"
   ]
  },
  {
   "cell_type": "code",
   "execution_count": 3,
   "metadata": {},
   "outputs": [
    {
     "data": {
      "image/png": "[encoded data removed]",
      "text/plain": [
       "<matplotlib.figure.Figure at 0x1a082a4940>"
      ]
     },
     "metadata": {},
     "output_type": "display_data"
    },
    {
     "name": "stdout",
     "output_type": "stream",
     "text": [
      "Parameter fits of optimized model:\n"
     ]
    },
    {
     "data": {
      "text/plain": [
       "array([2.43708905, 1.        , 0.35015434])"
      ]
     },
     "metadata": {},
     "output_type": "display_data"
    },
    {
     "name": "stdout",
     "output_type": "stream",
     "text": [
      "R-squared of fit:\n"
     ]
    },
    {
     "data": {
      "text/plain": [
       "0.8957084790510728"
      ]
     },
     "metadata": {},
     "output_type": "display_data"
    },
    {
     "name": "stdout",
     "output_type": "stream",
     "text": [
      "Parameter uncertainties (1 sigma):\n"
     ]
    },
    {
     "data": {
      "text/plain": [
       "array([0.12336385, 0.12952817, 0.07844143])"
      ]
     },
     "metadata": {},
     "output_type": "display_data"
    }
   ],
   "source": [
    "xdata = np.linspace(0, 4, 50)\n",
    "y = func(xdata, 2.5, 1.3, 0.5)\n",
    "np.random.seed(1729)\n",
    "y_noise = 0.2 * np.random.normal(size=xdata.size)\n",
    "ydata = y + y_noise\n",
    "plt.plot(xdata, ydata, 'b-', label='data')\n",
    "\n",
    "popt, pcov = curve_fit(func, xdata, ydata)\n",
    "popt\n",
    "plt.plot(xdata, func(xdata, *popt), 'r-',\n",
    "         label='fit: a=%5.3f, b=%5.3f, c=%5.3f' % tuple(popt))\n",
    "\n",
    "popt, pcov = curve_fit(func, xdata, ydata, bounds=(0, [3., 1., 0.5]))\n",
    "popt\n",
    "plt.plot(xdata, func(xdata, *popt), 'g--',\n",
    "         label='fit: a=%5.3f, b=%5.3f, c=%5.3f' % tuple(popt))\n",
    "plt.xlabel('x')\n",
    "plt.ylabel('y')\n",
    "plt.legend()\n",
    "plt.show()\n",
    "\n",
    "print(\"Parameter fits of optimized model:\")\n",
    "display(popt)\n",
    "print(\"R-squared of fit:\")\n",
    "residuals = ydata - func(xdata, *popt)\n",
    "ss_res = np.sum(residuals**2)\n",
    "ss_tot = np.sum((ydata-np.mean(ydata))**2)\n",
    "r_squared = 1 - (ss_res / ss_tot)\n",
    "display(r_squared)\n",
    "# calculate the uncertainties\n",
    "print(\"Parameter uncertainties (1 sigma):\")\n",
    "perr = np.sqrt(np.diag(pcov))\n",
    "display(perr)\n"
   ]
  },
  {
   "cell_type": "markdown",
   "metadata": {},
   "source": [
    "## The real deal"
   ]
  },
  {
   "cell_type": "markdown",
   "metadata": {},
   "source": [
    "### Load data, take a peek"
   ]
  },
  {
   "cell_type": "code",
   "execution_count": 4,
   "metadata": {},
   "outputs": [
    {
     "data": {
      "text/html": [
       "<div>\n",
       "<style scoped>\n",
       "    .dataframe tbody tr th:only-of-type {\n",
       "        vertical-align: middle;\n",
       "    }\n",
       "\n",
       "    .dataframe tbody tr th {\n",
       "        vertical-align: top;\n",
       "    }\n",
       "\n",
       "    .dataframe thead th {\n",
       "        text-align: right;\n",
       "    }\n",
       "</style>\n",
       "<table border=\"1\" class=\"dataframe\">\n",
       "  <thead>\n",
       "    <tr style=\"text-align: right;\">\n",
       "      <th></th>\n",
       "      <th>Station</th>\n",
       "      <th>time</th>\n",
       "      <th>Replicate</th>\n",
       "      <th>Timestamp_bottle_closure_GMT_ISO8601</th>\n",
       "      <th>Cysteic_Acid_pmol.L</th>\n",
       "      <th>Cysteinolic_acid_PA.L</th>\n",
       "      <th>DHPS_pmol.L</th>\n",
       "      <th>Isethionic_Acid_pmol.L</th>\n",
       "      <th>Sulfolactic_Acid_pmol.L</th>\n",
       "      <th>Taurine_pmol.L</th>\n",
       "    </tr>\n",
       "  </thead>\n",
       "  <tbody>\n",
       "    <tr>\n",
       "      <th>0</th>\n",
       "      <td>6</td>\n",
       "      <td>700</td>\n",
       "      <td>1</td>\n",
       "      <td>2015-07-26T17:11:00-0000</td>\n",
       "      <td>4.421507</td>\n",
       "      <td>6.949541e+05</td>\n",
       "      <td>56.947953</td>\n",
       "      <td>3.571307</td>\n",
       "      <td>2.645641</td>\n",
       "      <td>19.067415</td>\n",
       "    </tr>\n",
       "    <tr>\n",
       "      <th>1</th>\n",
       "      <td>6</td>\n",
       "      <td>700</td>\n",
       "      <td>2</td>\n",
       "      <td>2015-07-26T17:11:00-0000</td>\n",
       "      <td>0.493252</td>\n",
       "      <td>2.043138e+06</td>\n",
       "      <td>528.974628</td>\n",
       "      <td>14.574636</td>\n",
       "      <td>3.587629</td>\n",
       "      <td>54.789920</td>\n",
       "    </tr>\n",
       "    <tr>\n",
       "      <th>2</th>\n",
       "      <td>6</td>\n",
       "      <td>700</td>\n",
       "      <td>3</td>\n",
       "      <td>2015-07-26T17:11:00-0000</td>\n",
       "      <td>3.071356</td>\n",
       "      <td>1.707758e+06</td>\n",
       "      <td>432.111451</td>\n",
       "      <td>10.481211</td>\n",
       "      <td>6.450681</td>\n",
       "      <td>42.902283</td>\n",
       "    </tr>\n",
       "    <tr>\n",
       "      <th>3</th>\n",
       "      <td>7</td>\n",
       "      <td>1000</td>\n",
       "      <td>1</td>\n",
       "      <td>2015-07-26T20:25:00-0000</td>\n",
       "      <td>7.601564</td>\n",
       "      <td>3.198881e+06</td>\n",
       "      <td>315.924313</td>\n",
       "      <td>12.603545</td>\n",
       "      <td>4.005653</td>\n",
       "      <td>209.026833</td>\n",
       "    </tr>\n",
       "    <tr>\n",
       "      <th>4</th>\n",
       "      <td>7</td>\n",
       "      <td>1000</td>\n",
       "      <td>2</td>\n",
       "      <td>2015-07-26T20:25:00-0000</td>\n",
       "      <td>4.291812</td>\n",
       "      <td>5.744861e+06</td>\n",
       "      <td>771.503512</td>\n",
       "      <td>31.420815</td>\n",
       "      <td>3.718890</td>\n",
       "      <td>65.651715</td>\n",
       "    </tr>\n",
       "    <tr>\n",
       "      <th>5</th>\n",
       "      <td>7</td>\n",
       "      <td>1000</td>\n",
       "      <td>3</td>\n",
       "      <td>2015-07-26T20:25:00-0000</td>\n",
       "      <td>0.592208</td>\n",
       "      <td>4.729765e+06</td>\n",
       "      <td>1527.930893</td>\n",
       "      <td>19.561125</td>\n",
       "      <td>6.248778</td>\n",
       "      <td>51.148806</td>\n",
       "    </tr>\n",
       "    <tr>\n",
       "      <th>6</th>\n",
       "      <td>8</td>\n",
       "      <td>1400</td>\n",
       "      <td>1</td>\n",
       "      <td>2015-07-27T00:29:00-0000</td>\n",
       "      <td>7.195938</td>\n",
       "      <td>5.410413e+06</td>\n",
       "      <td>1761.605319</td>\n",
       "      <td>33.739859</td>\n",
       "      <td>4.320685</td>\n",
       "      <td>71.730329</td>\n",
       "    </tr>\n",
       "    <tr>\n",
       "      <th>7</th>\n",
       "      <td>8</td>\n",
       "      <td>1400</td>\n",
       "      <td>2</td>\n",
       "      <td>2015-07-27T00:29:00-0000</td>\n",
       "      <td>0.466945</td>\n",
       "      <td>1.021502e+07</td>\n",
       "      <td>5043.952082</td>\n",
       "      <td>55.227529</td>\n",
       "      <td>12.421041</td>\n",
       "      <td>94.619387</td>\n",
       "    </tr>\n",
       "    <tr>\n",
       "      <th>8</th>\n",
       "      <td>8</td>\n",
       "      <td>1400</td>\n",
       "      <td>3</td>\n",
       "      <td>2015-07-27T00:29:00-0000</td>\n",
       "      <td>6.103194</td>\n",
       "      <td>4.964977e+06</td>\n",
       "      <td>666.905509</td>\n",
       "      <td>45.784641</td>\n",
       "      <td>2.872352</td>\n",
       "      <td>114.770626</td>\n",
       "    </tr>\n",
       "    <tr>\n",
       "      <th>9</th>\n",
       "      <td>11</td>\n",
       "      <td>1800</td>\n",
       "      <td>1</td>\n",
       "      <td>2015-07-27T04:27:00-0000</td>\n",
       "      <td>2.901025</td>\n",
       "      <td>7.968625e+06</td>\n",
       "      <td>2311.339370</td>\n",
       "      <td>49.955310</td>\n",
       "      <td>2.753558</td>\n",
       "      <td>135.176525</td>\n",
       "    </tr>\n",
       "  </tbody>\n",
       "</table>\n",
       "</div>"
      ],
      "text/plain": [
       "   Station  time  Replicate Timestamp_bottle_closure_GMT_ISO8601  \\\n",
       "0        6   700          1             2015-07-26T17:11:00-0000   \n",
       "1        6   700          2             2015-07-26T17:11:00-0000   \n",
       "2        6   700          3             2015-07-26T17:11:00-0000   \n",
       "3        7  1000          1             2015-07-26T20:25:00-0000   \n",
       "4        7  1000          2             2015-07-26T20:25:00-0000   \n",
       "5        7  1000          3             2015-07-26T20:25:00-0000   \n",
       "6        8  1400          1             2015-07-27T00:29:00-0000   \n",
       "7        8  1400          2             2015-07-27T00:29:00-0000   \n",
       "8        8  1400          3             2015-07-27T00:29:00-0000   \n",
       "9       11  1800          1             2015-07-27T04:27:00-0000   \n",
       "\n",
       "   Cysteic_Acid_pmol.L  Cysteinolic_acid_PA.L  DHPS_pmol.L  \\\n",
       "0             4.421507           6.949541e+05    56.947953   \n",
       "1             0.493252           2.043138e+06   528.974628   \n",
       "2             3.071356           1.707758e+06   432.111451   \n",
       "3             7.601564           3.198881e+06   315.924313   \n",
       "4             4.291812           5.744861e+06   771.503512   \n",
       "5             0.592208           4.729765e+06  1527.930893   \n",
       "6             7.195938           5.410413e+06  1761.605319   \n",
       "7             0.466945           1.021502e+07  5043.952082   \n",
       "8             6.103194           4.964977e+06   666.905509   \n",
       "9             2.901025           7.968625e+06  2311.339370   \n",
       "\n",
       "   Isethionic_Acid_pmol.L  Sulfolactic_Acid_pmol.L  Taurine_pmol.L  \n",
       "0                3.571307                 2.645641       19.067415  \n",
       "1               14.574636                 3.587629       54.789920  \n",
       "2               10.481211                 6.450681       42.902283  \n",
       "3               12.603545                 4.005653      209.026833  \n",
       "4               31.420815                 3.718890       65.651715  \n",
       "5               19.561125                 6.248778       51.148806  \n",
       "6               33.739859                 4.320685       71.730329  \n",
       "7               55.227529                12.421041       94.619387  \n",
       "8               45.784641                 2.872352      114.770626  \n",
       "9               49.955310                 2.753558      135.176525  "
      ]
     },
     "metadata": {},
     "output_type": "display_data"
    },
    {
     "data": {
      "text/html": [
       "<div>\n",
       "<style scoped>\n",
       "    .dataframe tbody tr th:only-of-type {\n",
       "        vertical-align: middle;\n",
       "    }\n",
       "\n",
       "    .dataframe tbody tr th {\n",
       "        vertical-align: top;\n",
       "    }\n",
       "\n",
       "    .dataframe thead th {\n",
       "        text-align: right;\n",
       "    }\n",
       "</style>\n",
       "<table border=\"1\" class=\"dataframe\">\n",
       "  <thead>\n",
       "    <tr style=\"text-align: right;\">\n",
       "      <th></th>\n",
       "      <th>Timestamp_ISO8601</th>\n",
       "      <th>Sum of abundance_cell.uL</th>\n",
       "      <th>Sum of Qc_pg.cell</th>\n",
       "      <th>Sum of Cbiomass_ug.L</th>\n",
       "      <th>Cbiomass_umol.L</th>\n",
       "    </tr>\n",
       "  </thead>\n",
       "  <tbody>\n",
       "    <tr>\n",
       "      <th>0</th>\n",
       "      <td>2015-07-25T07:01:00-00:00</td>\n",
       "      <td>0.976418</td>\n",
       "      <td>14.029181</td>\n",
       "      <td>13.698349</td>\n",
       "      <td>1.140512</td>\n",
       "    </tr>\n",
       "    <tr>\n",
       "      <th>1</th>\n",
       "      <td>2015-07-25T07:04:00-00:00</td>\n",
       "      <td>1.036827</td>\n",
       "      <td>10.866547</td>\n",
       "      <td>11.266727</td>\n",
       "      <td>0.938057</td>\n",
       "    </tr>\n",
       "    <tr>\n",
       "      <th>2</th>\n",
       "      <td>2015-07-25T07:07:00-00:00</td>\n",
       "      <td>1.207168</td>\n",
       "      <td>10.731003</td>\n",
       "      <td>12.954125</td>\n",
       "      <td>1.078549</td>\n",
       "    </tr>\n",
       "    <tr>\n",
       "      <th>3</th>\n",
       "      <td>2015-07-25T07:10:00-00:00</td>\n",
       "      <td>1.088433</td>\n",
       "      <td>10.819991</td>\n",
       "      <td>11.776836</td>\n",
       "      <td>0.980529</td>\n",
       "    </tr>\n",
       "    <tr>\n",
       "      <th>4</th>\n",
       "      <td>2015-07-25T07:13:00-00:00</td>\n",
       "      <td>1.015561</td>\n",
       "      <td>9.844304</td>\n",
       "      <td>9.997491</td>\n",
       "      <td>0.832382</td>\n",
       "    </tr>\n",
       "    <tr>\n",
       "      <th>5</th>\n",
       "      <td>2015-07-25T07:16:00-00:00</td>\n",
       "      <td>1.181247</td>\n",
       "      <td>10.650057</td>\n",
       "      <td>12.580345</td>\n",
       "      <td>1.047428</td>\n",
       "    </tr>\n",
       "    <tr>\n",
       "      <th>6</th>\n",
       "      <td>2015-07-25T07:19:00-00:00</td>\n",
       "      <td>1.070121</td>\n",
       "      <td>10.080352</td>\n",
       "      <td>10.787198</td>\n",
       "      <td>0.898132</td>\n",
       "    </tr>\n",
       "    <tr>\n",
       "      <th>7</th>\n",
       "      <td>2015-07-25T07:22:00-00:00</td>\n",
       "      <td>0.976476</td>\n",
       "      <td>10.383692</td>\n",
       "      <td>10.139423</td>\n",
       "      <td>0.844199</td>\n",
       "    </tr>\n",
       "    <tr>\n",
       "      <th>8</th>\n",
       "      <td>2015-07-25T07:25:00-00:00</td>\n",
       "      <td>1.123217</td>\n",
       "      <td>9.155938</td>\n",
       "      <td>10.284105</td>\n",
       "      <td>0.856245</td>\n",
       "    </tr>\n",
       "    <tr>\n",
       "      <th>9</th>\n",
       "      <td>2015-07-25T07:28:00-00:00</td>\n",
       "      <td>1.038736</td>\n",
       "      <td>9.513941</td>\n",
       "      <td>9.882473</td>\n",
       "      <td>0.822806</td>\n",
       "    </tr>\n",
       "  </tbody>\n",
       "</table>\n",
       "</div>"
      ],
      "text/plain": [
       "           Timestamp_ISO8601  Sum of abundance_cell.uL  Sum of Qc_pg.cell  \\\n",
       "0  2015-07-25T07:01:00-00:00                  0.976418          14.029181   \n",
       "1  2015-07-25T07:04:00-00:00                  1.036827          10.866547   \n",
       "2  2015-07-25T07:07:00-00:00                  1.207168          10.731003   \n",
       "3  2015-07-25T07:10:00-00:00                  1.088433          10.819991   \n",
       "4  2015-07-25T07:13:00-00:00                  1.015561           9.844304   \n",
       "5  2015-07-25T07:16:00-00:00                  1.181247          10.650057   \n",
       "6  2015-07-25T07:19:00-00:00                  1.070121          10.080352   \n",
       "7  2015-07-25T07:22:00-00:00                  0.976476          10.383692   \n",
       "8  2015-07-25T07:25:00-00:00                  1.123217           9.155938   \n",
       "9  2015-07-25T07:28:00-00:00                  1.038736           9.513941   \n",
       "\n",
       "   Sum of Cbiomass_ug.L  Cbiomass_umol.L  \n",
       "0             13.698349         1.140512  \n",
       "1             11.266727         0.938057  \n",
       "2             12.954125         1.078549  \n",
       "3             11.776836         0.980529  \n",
       "4              9.997491         0.832382  \n",
       "5             12.580345         1.047428  \n",
       "6             10.787198         0.898132  \n",
       "7             10.139423         0.844199  \n",
       "8             10.284105         0.856245  \n",
       "9              9.882473         0.822806  "
      ]
     },
     "metadata": {},
     "output_type": "display_data"
    }
   ],
   "source": [
    "dielSulfonates_raw = pandas.read_csv('data/sulfonates/sulfonates_BD.csv')\n",
    "dielSeaFlow_raw = pandas.read_csv('data/seaflow/seaflow_biomassDIEL_jorJamie.csv')\n",
    "\n",
    "display(dielSulfonates_raw.head(n=10))\n",
    "display(dielSeaFlow_raw.head(n=10))"
   ]
  },
  {
   "cell_type": "markdown",
   "metadata": {},
   "source": [
    "### Do some data cleaning"
   ]
  },
  {
   "cell_type": "code",
   "execution_count": 5,
   "metadata": {},
   "outputs": [
    {
     "data": {
      "text/html": [
       "<div>\n",
       "<style scoped>\n",
       "    .dataframe tbody tr th:only-of-type {\n",
       "        vertical-align: middle;\n",
       "    }\n",
       "\n",
       "    .dataframe tbody tr th {\n",
       "        vertical-align: top;\n",
       "    }\n",
       "\n",
       "    .dataframe thead th {\n",
       "        text-align: right;\n",
       "    }\n",
       "</style>\n",
       "<table border=\"1\" class=\"dataframe\">\n",
       "  <thead>\n",
       "    <tr style=\"text-align: right;\">\n",
       "      <th></th>\n",
       "      <th>Timestamp_ISO8601</th>\n",
       "      <th>Sum of abundance_cell.uL</th>\n",
       "      <th>Sum of Qc_pg.cell</th>\n",
       "      <th>Sum of Cbiomass_ug.L</th>\n",
       "      <th>Cbiomass_umol.L</th>\n",
       "    </tr>\n",
       "  </thead>\n",
       "  <tbody>\n",
       "    <tr>\n",
       "      <th>0</th>\n",
       "      <td>2015-07-24 21:01:00-10:00</td>\n",
       "      <td>0.976418</td>\n",
       "      <td>14.029181</td>\n",
       "      <td>13.698349</td>\n",
       "      <td>1.140512</td>\n",
       "    </tr>\n",
       "    <tr>\n",
       "      <th>1</th>\n",
       "      <td>2015-07-24 21:04:00-10:00</td>\n",
       "      <td>1.036827</td>\n",
       "      <td>10.866547</td>\n",
       "      <td>11.266727</td>\n",
       "      <td>0.938057</td>\n",
       "    </tr>\n",
       "    <tr>\n",
       "      <th>2</th>\n",
       "      <td>2015-07-24 21:07:00-10:00</td>\n",
       "      <td>1.207168</td>\n",
       "      <td>10.731003</td>\n",
       "      <td>12.954125</td>\n",
       "      <td>1.078549</td>\n",
       "    </tr>\n",
       "  </tbody>\n",
       "</table>\n",
       "</div>"
      ],
      "text/plain": [
       "          Timestamp_ISO8601  Sum of abundance_cell.uL  Sum of Qc_pg.cell  \\\n",
       "0 2015-07-24 21:01:00-10:00                  0.976418          14.029181   \n",
       "1 2015-07-24 21:04:00-10:00                  1.036827          10.866547   \n",
       "2 2015-07-24 21:07:00-10:00                  1.207168          10.731003   \n",
       "\n",
       "   Sum of Cbiomass_ug.L  Cbiomass_umol.L  \n",
       "0             13.698349         1.140512  \n",
       "1             11.266727         0.938057  \n",
       "2             12.954125         1.078549  "
      ]
     },
     "metadata": {},
     "output_type": "display_data"
    },
    {
     "data": {
      "text/html": [
       "<div>\n",
       "<style scoped>\n",
       "    .dataframe tbody tr th:only-of-type {\n",
       "        vertical-align: middle;\n",
       "    }\n",
       "\n",
       "    .dataframe tbody tr th {\n",
       "        vertical-align: top;\n",
       "    }\n",
       "\n",
       "    .dataframe thead th {\n",
       "        text-align: right;\n",
       "    }\n",
       "</style>\n",
       "<table border=\"1\" class=\"dataframe\">\n",
       "  <thead>\n",
       "    <tr style=\"text-align: right;\">\n",
       "      <th></th>\n",
       "      <th>Station</th>\n",
       "      <th>time</th>\n",
       "      <th>Replicate</th>\n",
       "      <th>Timestamp_bottle_closure_GMT_ISO8601</th>\n",
       "      <th>Cysteic_Acid_pmol.L</th>\n",
       "      <th>Cysteinolic_acid_PA.L</th>\n",
       "      <th>DHPS_pmol.L</th>\n",
       "      <th>Isethionic_Acid_pmol.L</th>\n",
       "      <th>Sulfolactic_Acid_pmol.L</th>\n",
       "      <th>Taurine_pmol.L</th>\n",
       "    </tr>\n",
       "  </thead>\n",
       "  <tbody>\n",
       "    <tr>\n",
       "      <th>0</th>\n",
       "      <td>6</td>\n",
       "      <td>700</td>\n",
       "      <td>1</td>\n",
       "      <td>2015-07-26 07:11:00-10:00</td>\n",
       "      <td>4.421507</td>\n",
       "      <td>6.949541e+05</td>\n",
       "      <td>56.947953</td>\n",
       "      <td>3.571307</td>\n",
       "      <td>2.645641</td>\n",
       "      <td>19.067415</td>\n",
       "    </tr>\n",
       "    <tr>\n",
       "      <th>1</th>\n",
       "      <td>6</td>\n",
       "      <td>700</td>\n",
       "      <td>2</td>\n",
       "      <td>2015-07-26 07:11:00-10:00</td>\n",
       "      <td>0.493252</td>\n",
       "      <td>2.043138e+06</td>\n",
       "      <td>528.974628</td>\n",
       "      <td>14.574636</td>\n",
       "      <td>3.587629</td>\n",
       "      <td>54.789920</td>\n",
       "    </tr>\n",
       "    <tr>\n",
       "      <th>2</th>\n",
       "      <td>6</td>\n",
       "      <td>700</td>\n",
       "      <td>3</td>\n",
       "      <td>2015-07-26 07:11:00-10:00</td>\n",
       "      <td>3.071356</td>\n",
       "      <td>1.707758e+06</td>\n",
       "      <td>432.111451</td>\n",
       "      <td>10.481211</td>\n",
       "      <td>6.450681</td>\n",
       "      <td>42.902283</td>\n",
       "    </tr>\n",
       "  </tbody>\n",
       "</table>\n",
       "</div>"
      ],
      "text/plain": [
       "   Station  time  Replicate Timestamp_bottle_closure_GMT_ISO8601  \\\n",
       "0        6   700          1            2015-07-26 07:11:00-10:00   \n",
       "1        6   700          2            2015-07-26 07:11:00-10:00   \n",
       "2        6   700          3            2015-07-26 07:11:00-10:00   \n",
       "\n",
       "   Cysteic_Acid_pmol.L  Cysteinolic_acid_PA.L  DHPS_pmol.L  \\\n",
       "0             4.421507           6.949541e+05    56.947953   \n",
       "1             0.493252           2.043138e+06   528.974628   \n",
       "2             3.071356           1.707758e+06   432.111451   \n",
       "\n",
       "   Isethionic_Acid_pmol.L  Sulfolactic_Acid_pmol.L  Taurine_pmol.L  \n",
       "0                3.571307                 2.645641       19.067415  \n",
       "1               14.574636                 3.587629       54.789920  \n",
       "2               10.481211                 6.450681       42.902283  "
      ]
     },
     "metadata": {},
     "output_type": "display_data"
    }
   ],
   "source": [
    "dielSulfonates = dielSulfonates_raw.copy()\n",
    "dielSeaFlow = dielSeaFlow_raw.copy()\n",
    "\n",
    "# parse and convert dates, ensure all in HST, then store\n",
    "dielSulfonates['Timestamp_bottle_closure_GMT_ISO8601'] = (\n",
    "    dielSulfonates_raw['Timestamp_bottle_closure_GMT_ISO8601'].apply(iso8601.parse_date))\n",
    "dielSulfonates['Timestamp_bottle_closure_GMT_ISO8601'] = (\n",
    "    dielSulfonates['Timestamp_bottle_closure_GMT_ISO8601'].apply(\n",
    "        lambda x: datetime.astimezone(x, pytz.timezone('Pacific/Honolulu'))))\n",
    "\n",
    "dielSeaFlow['Timestamp_ISO8601'] = (\n",
    "    dielSeaFlow_raw['Timestamp_ISO8601'].apply(iso8601.parse_date))\n",
    "dielSeaFlow['Timestamp_ISO8601'] = (\n",
    "    dielSeaFlow['Timestamp_ISO8601'].apply(\n",
    "        lambda x: datetime.astimezone(x, pytz.timezone('Pacific/Honolulu'))))\n",
    "\n",
    "# take a look again at new objects\n",
    "display(dielSeaFlow.head(n=3))\n",
    "display(dielSulfonates.head(n=3))"
   ]
  },
  {
   "cell_type": "markdown",
   "metadata": {},
   "source": [
    "### Initial analysis"
   ]
  },
  {
   "cell_type": "markdown",
   "metadata": {},
   "source": [
    "#### Some initial plots since not all the compounds display diel periodicity"
   ]
  },
  {
   "cell_type": "markdown",
   "metadata": {},
   "source": [
    "#### Sulfonate data: DHPS"
   ]
  },
  {
   "cell_type": "code",
   "execution_count": 6,
   "metadata": {},
   "outputs": [
    {
     "data": {
      "image/png": "[encoded data removed]",
      "text/plain": [
       "<matplotlib.figure.Figure at 0x1a1087c2e8>"
      ]
     },
     "metadata": {},
     "output_type": "display_data"
    }
   ],
   "source": [
    "# after much searching, seems like easiest way to get the time ticks in these plots to come out right is to\n",
    "# change matplotlib's base timezone for the time being\n",
    "# probably a bad idea since, so we'll make sure to restore current setting after plotting\n",
    "\n",
    "# get, store current setting\n",
    "current_matplotTZ = plt.rcParams['timezone']\n",
    "# set to 'Pacific/Honolulu' temporarily\n",
    "plt.rcParams['timezone'] = 'Pacific/Honolulu' \n",
    "        \n",
    "fig = plt.figure(figsize=(14, 7))\n",
    "\n",
    "ax1 = fig.add_subplot(111)\n",
    "ax1.plot(dielSulfonates['Timestamp_bottle_closure_GMT_ISO8601'],dielSulfonates['DHPS_pmol.L'], 'b.')\n",
    "ax1.xaxis.set_major_locator(pltdates.DayLocator(interval=1))\n",
    "ax1.xaxis.set_minor_locator(pltdates.HourLocator(byhour=12))\n",
    "ax1.xaxis.set_major_formatter(pltdates.DateFormatter('%H:%M%\\n%b %d %Y')) \n",
    "ax1.xaxis.set_minor_formatter(pltdates.DateFormatter('%H:%M')) \n",
    "ax1.xaxis_date(pytz.timezone('Pacific/Honolulu'))\n",
    "\n",
    "#ax2 = ax1.twinx()\n",
    "#ax2.plot(dielSeaFlow['Timestamp_ISO8601'],dielSeaFlow['Cbiomass_umol.L'], 'r-')\n",
    "\n",
    "#ax2.set_ylim(0.4, 1.8)\n",
    "\n",
    "# set matplotlib timezone back\n",
    "plt.rcParams['timezone'] = current_matplotTZ"
   ]
  },
  {
   "cell_type": "markdown",
   "metadata": {},
   "source": [
    "#### Sulfonate data: Cysteic_Acid_pmol.L"
   ]
  },
  {
   "cell_type": "code",
   "execution_count": 7,
   "metadata": {},
   "outputs": [
    {
     "data": {
      "image/png": "[encoded data removed]",
      "text/plain": [
       "<matplotlib.figure.Figure at 0x1a1087c390>"
      ]
     },
     "metadata": {},
     "output_type": "display_data"
    }
   ],
   "source": [
    "# after much searching, seems like easiest way to get the time ticks in these plots to come out right is to\n",
    "# change matplotlib's base timezone for the time being\n",
    "# probably a bad idea since, so we'll make sure to restore current setting after plotting\n",
    "\n",
    "# get, store current setting\n",
    "current_matplotTZ = plt.rcParams['timezone']\n",
    "# set to 'Pacific/Honolulu' temporarily\n",
    "plt.rcParams['timezone'] = 'Pacific/Honolulu' \n",
    "        \n",
    "fig = plt.figure(figsize=(14, 7))\n",
    "\n",
    "ax1 = fig.add_subplot(111)\n",
    "ax1.plot(dielSulfonates['Timestamp_bottle_closure_GMT_ISO8601'],dielSulfonates['Cysteic_Acid_pmol.L'], 'b.')\n",
    "ax1.xaxis.set_major_locator(pltdates.DayLocator(interval=1))\n",
    "ax1.xaxis.set_minor_locator(pltdates.HourLocator(byhour=12))\n",
    "ax1.xaxis.set_major_formatter(pltdates.DateFormatter('%H:%M%\\n%b %d %Y')) \n",
    "ax1.xaxis.set_minor_formatter(pltdates.DateFormatter('%H:%M')) \n",
    "ax1.xaxis_date(pytz.timezone('Pacific/Honolulu'))\n",
    "\n",
    "# set matplotlib timezone back\n",
    "plt.rcParams['timezone'] = current_matplotTZ"
   ]
  },
  {
   "cell_type": "markdown",
   "metadata": {},
   "source": [
    "#### Sulfonate data: Cysteinolic_acid_PA.L"
   ]
  },
  {
   "cell_type": "code",
   "execution_count": 8,
   "metadata": {},
   "outputs": [
    {
     "data": {
      "image/png": "[encoded data removed]",
      "text/plain": [
       "<matplotlib.figure.Figure at 0x102128390>"
      ]
     },
     "metadata": {},
     "output_type": "display_data"
    }
   ],
   "source": [
    "# after much searching, seems like easiest way to get the time ticks in these plots to come out right is to\n",
    "# change matplotlib's base timezone for the time being\n",
    "# probably a bad idea since, so we'll make sure to restore current setting after plotting\n",
    "\n",
    "# get, store current setting\n",
    "current_matplotTZ = plt.rcParams['timezone']\n",
    "# set to 'Pacific/Honolulu' temporarily\n",
    "plt.rcParams['timezone'] = 'Pacific/Honolulu' \n",
    "        \n",
    "fig = plt.figure(figsize=(14, 7))\n",
    "\n",
    "ax1 = fig.add_subplot(111)\n",
    "ax1.plot(dielSulfonates['Timestamp_bottle_closure_GMT_ISO8601'],dielSulfonates['Cysteinolic_acid_PA.L'], 'b.')\n",
    "ax1.xaxis.set_major_locator(pltdates.DayLocator(interval=1))\n",
    "ax1.xaxis.set_minor_locator(pltdates.HourLocator(byhour=12))\n",
    "ax1.xaxis.set_major_formatter(pltdates.DateFormatter('%H:%M%\\n%b %d %Y')) \n",
    "ax1.xaxis.set_minor_formatter(pltdates.DateFormatter('%H:%M')) \n",
    "ax1.xaxis_date(pytz.timezone('Pacific/Honolulu'))\n",
    "\n",
    "# set matplotlib timezone back\n",
    "plt.rcParams['timezone'] = current_matplotTZ"
   ]
  },
  {
   "cell_type": "markdown",
   "metadata": {},
   "source": [
    "#### Sulfonate data: Isethionic_Acid_pmol.L"
   ]
  },
  {
   "cell_type": "code",
   "execution_count": 9,
   "metadata": {},
   "outputs": [
    {
     "data": {
      "image/png": "[encoded data removed]",
      "text/plain": [
       "<matplotlib.figure.Figure at 0x1a10c6e4a8>"
      ]
     },
     "metadata": {},
     "output_type": "display_data"
    }
   ],
   "source": [
    "# after much searching, seems like easiest way to get the time ticks in these plots to come out right is to\n",
    "# change matplotlib's base timezone for the time being\n",
    "# probably a bad idea since, so we'll make sure to restore current setting after plotting\n",
    "\n",
    "# get, store current setting\n",
    "current_matplotTZ = plt.rcParams['timezone']\n",
    "# set to 'Pacific/Honolulu' temporarily\n",
    "plt.rcParams['timezone'] = 'Pacific/Honolulu' \n",
    "        \n",
    "fig = plt.figure(figsize=(14, 7))\n",
    "\n",
    "ax1 = fig.add_subplot(111)\n",
    "ax1.plot(dielSulfonates['Timestamp_bottle_closure_GMT_ISO8601'],dielSulfonates['Isethionic_Acid_pmol.L'], 'b.')\n",
    "ax1.xaxis.set_major_locator(pltdates.DayLocator(interval=1))\n",
    "ax1.xaxis.set_minor_locator(pltdates.HourLocator(byhour=12))\n",
    "ax1.xaxis.set_major_formatter(pltdates.DateFormatter('%H:%M%\\n%b %d %Y')) \n",
    "ax1.xaxis.set_minor_formatter(pltdates.DateFormatter('%H:%M')) \n",
    "ax1.xaxis_date(pytz.timezone('Pacific/Honolulu'))\n",
    "\n",
    "# set matplotlib timezone back\n",
    "plt.rcParams['timezone'] = current_matplotTZ"
   ]
  },
  {
   "cell_type": "markdown",
   "metadata": {},
   "source": [
    "#### Sulfonate data: Sulfolactic_Acid_pmol.L"
   ]
  },
  {
   "cell_type": "code",
   "execution_count": 10,
   "metadata": {},
   "outputs": [
    {
     "data": {
      "image/png": "[encoded data removed]",
      "text/plain": [
       "<matplotlib.figure.Figure at 0x1a10cc7ac8>"
      ]
     },
     "metadata": {},
     "output_type": "display_data"
    }
   ],
   "source": [
    "# after much searching, seems like easiest way to get the time ticks in these plots to come out right is to\n",
    "# change matplotlib's base timezone for the time being\n",
    "# probably a bad idea since, so we'll make sure to restore current setting after plotting\n",
    "\n",
    "# get, store current setting\n",
    "current_matplotTZ = plt.rcParams['timezone']\n",
    "# set to 'Pacific/Honolulu' temporarily\n",
    "plt.rcParams['timezone'] = 'Pacific/Honolulu' \n",
    "        \n",
    "fig = plt.figure(figsize=(14, 7))\n",
    "\n",
    "ax1 = fig.add_subplot(111)\n",
    "ax1.plot(dielSulfonates['Timestamp_bottle_closure_GMT_ISO8601'],dielSulfonates['Sulfolactic_Acid_pmol.L'], 'b.')\n",
    "ax1.xaxis.set_major_locator(pltdates.DayLocator(interval=1))\n",
    "ax1.xaxis.set_minor_locator(pltdates.HourLocator(byhour=12))\n",
    "ax1.xaxis.set_major_formatter(pltdates.DateFormatter('%H:%M%\\n%b %d %Y')) \n",
    "ax1.xaxis.set_minor_formatter(pltdates.DateFormatter('%H:%M')) \n",
    "ax1.xaxis_date(pytz.timezone('Pacific/Honolulu'))\n",
    "\n",
    "# set matplotlib timezone back\n",
    "plt.rcParams['timezone'] = current_matplotTZ"
   ]
  },
  {
   "cell_type": "markdown",
   "metadata": {},
   "source": [
    "#### Sulfonate data: Taurine_pmol.L"
   ]
  },
  {
   "cell_type": "code",
   "execution_count": 11,
   "metadata": {},
   "outputs": [
    {
     "data": {
      "image/png": "[encoded data removed]",
      "text/plain": [
       "<matplotlib.figure.Figure at 0x1a10d22710>"
      ]
     },
     "metadata": {},
     "output_type": "display_data"
    }
   ],
   "source": [
    "# after much searching, seems like easiest way to get the time ticks in these plots to come out right is to\n",
    "# change matplotlib's base timezone for the time being\n",
    "# probably a bad idea since, so we'll make sure to restore current setting after plotting\n",
    "\n",
    "# get, store current setting\n",
    "current_matplotTZ = plt.rcParams['timezone']\n",
    "# set to 'Pacific/Honolulu' temporarily\n",
    "plt.rcParams['timezone'] = 'Pacific/Honolulu' \n",
    "        \n",
    "fig = plt.figure(figsize=(14, 7))\n",
    "\n",
    "ax1 = fig.add_subplot(111)\n",
    "ax1.plot(dielSulfonates['Timestamp_bottle_closure_GMT_ISO8601'],dielSulfonates['Taurine_pmol.L'], 'b.')\n",
    "ax1.xaxis.set_major_locator(pltdates.DayLocator(interval=1))\n",
    "ax1.xaxis.set_minor_locator(pltdates.HourLocator(byhour=12))\n",
    "ax1.xaxis.set_major_formatter(pltdates.DateFormatter('%H:%M%\\n%b %d %Y')) \n",
    "ax1.xaxis.set_minor_formatter(pltdates.DateFormatter('%H:%M')) \n",
    "ax1.xaxis_date(pytz.timezone('Pacific/Honolulu'))\n",
    "\n",
    "# set matplotlib timezone back\n",
    "plt.rcParams['timezone'] = current_matplotTZ"
   ]
  },
  {
   "cell_type": "markdown",
   "metadata": {},
   "source": [
    "It looks like only DHPS, cysteinolic acid, isethionic acid, and (to a much lesser extent) taurine have any promise as far as diel periodicity goes"
   ]
  },
  {
   "cell_type": "markdown",
   "metadata": {},
   "source": [
    "### Now, onto the curve fitting "
   ]
  },
  {
   "cell_type": "markdown",
   "metadata": {},
   "source": [
    "#### First, definition of our functions"
   ]
  },
  {
   "cell_type": "markdown",
   "metadata": {},
   "source": [
    "Case for three periods, where length of period is allowed to vary:\n",
    "\n",
    "$$y = a\\sin(\\frac{2\\pi}{b}x+c)+d\\sin(\\frac{2\\pi}{e}x+f)+g\\sin(\\frac{2\\pi}{h}x+i)+j+kx$$\n",
    "\n",
    "Amplitudes: $a, d, g$\n",
    "\n",
    "Period: $b, e, h$\n",
    "\n",
    "Phase: $c, f, i$\n",
    "\n",
    "$y$-offset: $j$\n",
    "\n",
    "Linear trend term: $k$"
   ]
  },
  {
   "cell_type": "code",
   "execution_count": 12,
   "metadata": {},
   "outputs": [],
   "source": [
    "# function where period is kept constant\n",
    "def multWaves_func_samePer_3(x, a, b, c, d, e, f, g, h, i):\n",
    "    return a * (np.sin(2 * np.pi / b * x + c )) + (\n",
    "        d * (np.sin(2 * np.pi / b * x + e ))) + (\n",
    "        f * (np.sin(2 * np.pi / b * x + g ))) + h + i * x\n",
    "# a, d, f: amplitudes\n",
    "# b: period\n",
    "# c, e, g: phase\n",
    "# h: y-offset\n",
    "# i: slope of linear trend (if any)\n",
    "\n",
    "# function where period is allowed to vary\n",
    "def multWaves_func_varPer_3(x, a, b, c, d, e, f, g, h, i, j, k):\n",
    "    return a * np.sin(2 * np.pi / b * x + c ) + (\n",
    "        d * np.sin(2 * np.pi / e * x + f )) + (\n",
    "        g * np.sin(2 * np.pi / h * x + i )) + j + k * x\n",
    "# a, d, g: amplitudes\n",
    "# b, e, h: period\n",
    "# c, f, i: phase\n",
    "# j: y-offset\n",
    "# k: slope of linear trend (if any)"
   ]
  },
  {
   "cell_type": "markdown",
   "metadata": {},
   "source": [
    "Case for four periods, where length of period is allowed to vary:\n",
    "\n",
    "$$y = a\\sin(\\frac{2\\pi}{b}x+c)+d\\sin(\\frac{2\\pi}{e}x+f)+g\\sin(\\frac{2\\pi}{h}x+i)+j\\sin(\\frac{2\\pi}{k}x+l)+m+nx$$\n",
    "\n",
    "Amplitudes: $a, d, g, j$\n",
    "\n",
    "Period: $b, e, h, k$\n",
    "\n",
    "Phase: $c, f, i, l$\n",
    "\n",
    "$y$-offset: $m$\n",
    "\n",
    "Linear trend term: $n$"
   ]
  },
  {
   "cell_type": "code",
   "execution_count": 13,
   "metadata": {},
   "outputs": [],
   "source": [
    "# function where period is allowed to vary\n",
    "def multWaves_func_varPer_4(x, a, b, c, d, e, f, g, h, i, j, k, l, m, n):\n",
    "    return a * np.sin(2 * np.pi / b * x + c ) + (\n",
    "        d * np.sin(2 * np.pi / e * x + f )) + (\n",
    "        g * np.sin(2 * np.pi / h * x + i )) + (\n",
    "        j * np.sin(2 * np.pi / k * x + l )) + m + n * x\n",
    "# a, d, g, j: amplitudes\n",
    "# b, e, h, k: period\n",
    "# c, f, i, l: phase\n",
    "# m: y-offset\n",
    "# n: slope of linear trend (if any)\n",
    "\n",
    "# function where period is kept constant\n",
    "def multWaves_func_samePer_4(x, a, b, c, d, e, f, g, h, i, j, k):\n",
    "    return a * (np.sin(2 * np.pi / b * x + c )) + (\n",
    "        d * (np.sin(2 * np.pi / b * x + e ))) + (\n",
    "        f * (np.sin(2 * np.pi / b * x + g ))) + (\n",
    "        h * (np.sin(2 * np.pi / b * x + i ))) + j + k * x\n",
    "# a, d, f, h: amplitudes\n",
    "# b: period\n",
    "# c, e, g, i: phase\n",
    "# j: y-offset\n",
    "# k: slope of linear trend (if any)"
   ]
  },
  {
   "cell_type": "markdown",
   "metadata": {},
   "source": [
    "#### Sulfonate data: DHPS (three periods)"
   ]
  },
  {
   "cell_type": "markdown",
   "metadata": {},
   "source": [
    "First, let's take a look at a quick plot again"
   ]
  },
  {
   "cell_type": "code",
   "execution_count": 14,
   "metadata": {},
   "outputs": [
    {
     "data": {
      "image/png": "[encoded data removed]",
      "text/plain": [
       "<matplotlib.figure.Figure at 0x1a1134cd68>"
      ]
     },
     "metadata": {},
     "output_type": "display_data"
    }
   ],
   "source": [
    "# after much searching, seems like easiest way to get the time ticks in these plots to come out right is to\n",
    "# change matplotlib's base timezone for the time being\n",
    "# probably a bad idea since, so we'll make sure to restore current setting after plotting\n",
    "\n",
    "# get, store current setting\n",
    "current_matplotTZ = plt.rcParams['timezone']\n",
    "# set to 'Pacific/Honolulu' temporarily\n",
    "plt.rcParams['timezone'] = 'Pacific/Honolulu' \n",
    "        \n",
    "fig = plt.figure(figsize=(14, 7))\n",
    "\n",
    "ax1 = fig.add_subplot(111)\n",
    "ax1.plot(dielSulfonates['Timestamp_bottle_closure_GMT_ISO8601'],dielSulfonates['DHPS_pmol.L'], 'b.')\n",
    "ax1.xaxis.set_major_locator(pltdates.DayLocator(interval=1))\n",
    "ax1.xaxis.set_minor_locator(pltdates.HourLocator(byhour=12))\n",
    "ax1.xaxis.set_major_formatter(pltdates.DateFormatter('%H:%M%\\n%b %d %Y')) \n",
    "ax1.xaxis.set_minor_formatter(pltdates.DateFormatter('%H:%M')) \n",
    "ax1.xaxis_date(pytz.timezone('Pacific/Honolulu'))\n",
    "\n",
    "#ax2 = ax1.twinx()\n",
    "#ax2.plot(dielSeaFlow['Timestamp_ISO8601'],dielSeaFlow['Cbiomass_umol.L'], 'r-')\n",
    "\n",
    "#ax2.set_ylim(0.4, 1.8)\n",
    "\n",
    "# set matplotlib timezone back\n",
    "plt.rcParams['timezone'] = current_matplotTZ"
   ]
  },
  {
   "cell_type": "markdown",
   "metadata": {},
   "source": [
    "Before curve fitting, have to excise some NaNs and convert the timestamp field to a different data type"
   ]
  },
  {
   "cell_type": "code",
   "execution_count": 15,
   "metadata": {},
   "outputs": [
    {
     "name": "stdout",
     "output_type": "stream",
     "text": [
      "Starting as: <class 'pandas._libs.tslib.Timestamp'> , datetime64[ns, Pacific/Honolulu]\n"
     ]
    },
    {
     "data": {
      "text/plain": [
       "0   2015-07-26 07:11:00-10:00\n",
       "1   2015-07-26 07:11:00-10:00\n",
       "2   2015-07-26 07:11:00-10:00\n",
       "Name: Timestamp_bottle_closure_GMT_ISO8601, dtype: datetime64[ns, Pacific/Honolulu]"
      ]
     },
     "metadata": {},
     "output_type": "display_data"
    },
    {
     "name": "stdout",
     "output_type": "stream",
     "text": [
      "After converting: <class 'pandas._libs.tslib.Timedelta'> , timedelta64[ns]\n"
     ]
    },
    {
     "data": {
      "text/plain": [
       "0    00:00:00\n",
       "1    00:00:00\n",
       "2    00:00:00\n",
       "3    03:14:00\n",
       "4    03:14:00\n",
       "5    03:14:00\n",
       "6    07:18:00\n",
       "7    07:18:00\n",
       "8    07:18:00\n",
       "9    11:16:00\n",
       "10   11:16:00\n",
       "11   11:16:00\n",
       "12   15:35:00\n",
       "13   15:35:00\n",
       "14   15:35:00\n",
       "15   19:16:00\n",
       "16   19:16:00\n",
       "17   19:16:00\n",
       "18   23:15:00\n",
       "19   23:15:00\n",
       "Name: Timestamp_bottle_closure_GMT_ISO8601, dtype: timedelta64[ns]"
      ]
     },
     "metadata": {},
     "output_type": "display_data"
    },
    {
     "name": "stdout",
     "output_type": "stream",
     "text": [
      "Or maybe just as second increments:\n"
     ]
    },
    {
     "data": {
      "text/plain": [
       "0         0.0\n",
       "1         0.0\n",
       "2         0.0\n",
       "3     11640.0\n",
       "4     11640.0\n",
       "5     11640.0\n",
       "6     26280.0\n",
       "7     26280.0\n",
       "8     26280.0\n",
       "9     40560.0\n",
       "10    40560.0\n",
       "11    40560.0\n",
       "12    56100.0\n",
       "13    56100.0\n",
       "14    56100.0\n",
       "15    69360.0\n",
       "16    69360.0\n",
       "17    69360.0\n",
       "18    83700.0\n",
       "19    83700.0\n",
       "Name: Timestamp_bottle_closure_GMT_ISO8601, dtype: float64"
      ]
     },
     "metadata": {},
     "output_type": "display_data"
    }
   ],
   "source": [
    "# remove NaNs\n",
    "TimestampDHPS_noNan = dielSulfonates['Timestamp_bottle_closure_GMT_ISO8601'][~np.isnan(dielSulfonates['DHPS_pmol.L'])]\n",
    "ConcDHPS_noNan = dielSulfonates['DHPS_pmol.L'][~np.isnan(dielSulfonates['DHPS_pmol.L'])]\n",
    "\n",
    "# convert time object\n",
    "print(\"Starting as:\",type(TimestampDHPS_noNan[0]),\",\",TimestampDHPS_noNan.dtypes)\n",
    "display(TimestampDHPS_noNan.head(n=3))\n",
    "\n",
    "TimestampDHPS_secFromStart = TimestampDHPS_noNan-TimestampDHPS_noNan[0]\n",
    "\n",
    "print(\"After converting:\",type(TimestampDHPS_secFromStart[0]),\",\",TimestampDHPS_secFromStart.dtypes)\n",
    "display(TimestampDHPS_secFromStart.head(n=20))\n",
    "\n",
    "TimestampDHPS_secFromStart_alt = (\n",
    "    TimestampDHPS_secFromStart.apply(\n",
    "        lambda x: x.total_seconds()))\n",
    "\n",
    "print(\"Or maybe just as second increments:\")\n",
    "display(TimestampDHPS_secFromStart_alt.head(n=20))"
   ]
  },
  {
   "cell_type": "markdown",
   "metadata": {},
   "source": [
    "Actually do the fitting"
   ]
  },
  {
   "cell_type": "code",
   "execution_count": 16,
   "metadata": {
    "scrolled": true
   },
   "outputs": [
    {
     "name": "stdout",
     "output_type": "stream",
     "text": [
      "Parameter fits for model where length of period (2nd value) is kept constant:\n"
     ]
    },
    {
     "data": {
      "text/plain": [
       "array([-3.30122369e+04,  8.66480866e+04, -4.01303186e+04, -3.30105357e+04,\n",
       "       -4.01282511e+04, -3.30364811e+04, -4.01198715e+04,  1.36253503e+03,\n",
       "       -3.53984700e-04])"
      ]
     },
     "metadata": {},
     "output_type": "display_data"
    },
    {
     "name": "stdout",
     "output_type": "stream",
     "text": [
      "R-squared of fit:\n"
     ]
    },
    {
     "data": {
      "text/plain": [
       "0.3883210579251529"
      ]
     },
     "metadata": {},
     "output_type": "display_data"
    },
    {
     "name": "stdout",
     "output_type": "stream",
     "text": [
      "Parameter uncertainties (1 sigma):\n"
     ]
    },
    {
     "data": {
      "text/plain": [
       "array([2.18748060e+10, 2.92591167e+03, 1.46580160e+10, 3.57914871e+10,\n",
       "       1.44621378e+10, 2.06574497e+10, 1.48871028e+10, 2.13523625e+02,\n",
       "       1.37331660e-03])"
      ]
     },
     "metadata": {},
     "output_type": "display_data"
    },
    {
     "name": "stdout",
     "output_type": "stream",
     "text": [
      "Parameter fits for model where length of period (2nd, 5th, 8th values) is allowed to vary:\n"
     ]
    },
    {
     "data": {
      "text/plain": [
       "array([-3.21560273e+04,  8.13034806e+04, -4.13139673e+04, -3.26143972e+04,\n",
       "        8.13976898e+04, -4.13160534e+04, -3.24660856e+04,  8.15025846e+04,\n",
       "       -4.12490076e+04,  1.47429795e+03, -1.12153956e-03])"
      ]
     },
     "metadata": {},
     "output_type": "display_data"
    },
    {
     "name": "stdout",
     "output_type": "stream",
     "text": [
      "R-squared of fit:\n"
     ]
    },
    {
     "data": {
      "text/plain": [
       "0.4397489163179775"
      ]
     },
     "metadata": {},
     "output_type": "display_data"
    },
    {
     "name": "stdout",
     "output_type": "stream",
     "text": [
      "Parameter uncertainties (1 sigma):\n"
     ]
    },
    {
     "data": {
      "text/plain": [
       "array([1.39656969e+09, 1.89705058e+06, 2.16525623e+04, 9.90926567e+08,\n",
       "       4.99776640e+06, 7.35750057e+04, 1.77612940e+09, 3.20306323e+06,\n",
       "       1.76096632e+04, 2.25904299e+02, 1.49056839e-03])"
      ]
     },
     "metadata": {},
     "output_type": "display_data"
    },
    {
     "name": "stdout",
     "output_type": "stream",
     "text": [
      "Test statistics:\n"
     ]
    },
    {
     "data": {
      "text/plain": [
       "array([-0.00002303,  0.04285783, -1.90804057, -0.00003291,  0.01628681,\n",
       "       -0.56155012, -0.00001828,  0.0254452 , -2.34240753,  6.5262058 ,\n",
       "       -0.75242409])"
      ]
     },
     "metadata": {},
     "output_type": "display_data"
    },
    {
     "name": "stdout",
     "output_type": "stream",
     "text": [
      "Degrees of freedom:\n"
     ]
    },
    {
     "data": {
      "text/plain": [
       "48"
      ]
     },
     "metadata": {},
     "output_type": "display_data"
    },
    {
     "name": "stdout",
     "output_type": "stream",
     "text": [
      "Critical values:\n"
     ]
    },
    {
     "data": {
      "text/plain": [
       "[-2.0106347546964454, 2.0106347546964454]"
      ]
     },
     "metadata": {},
     "output_type": "display_data"
    }
   ],
   "source": [
    "# do the fitting, using the functions defined above\n",
    "popt_samePer_DHPS, pcov_samePer_DHPS = curve_fit(multWaves_func_samePer_3, TimestampDHPS_secFromStart_alt, ConcDHPS_noNan, bounds=(\n",
    "    [-100000, 50000, -100000, -100000, -100000, -100000, -100000, -100000, -100000], (\n",
    "        [15000, 100000, 15000, 15000, 15000, 15000, 15000, 15000, 15000])))\n",
    "popt_varPer_DHPS, pcov_varPer_DHPS = curve_fit(multWaves_func_varPer_3, TimestampDHPS_secFromStart_alt, ConcDHPS_noNan, bounds=(\n",
    "    [-100000, 0, -100000, -100000, 0, -100000, -100000, 0, -100000, -100000, -100000], (\n",
    "        [15000, 100000, 15000, 15000, 100000, 15000, 15000, 100000, 15000, 15000, 15000])))\n",
    "\n",
    "# output results, and some diagnostics\n",
    "print(\"Parameter fits for model where length of period (2nd value) is kept constant:\")\n",
    "display(popt_samePer_DHPS)\n",
    "print(\"R-squared of fit:\")\n",
    "residuals_samePer_DHPS = ConcDHPS_noNan - multWaves_func_samePer_3(TimestampDHPS_secFromStart_alt, *popt_samePer_DHPS)\n",
    "ss_res_samePer_DHPS = np.sum(residuals_samePer_DHPS**2)\n",
    "ss_tot_samePer_DHPS = np.sum((ConcDHPS_noNan-np.mean(ConcDHPS_noNan))**2)\n",
    "r_squared_samePer_DHPS = 1 - (ss_res_samePer_DHPS / ss_tot_samePer_DHPS)\n",
    "display(r_squared_samePer_DHPS)\n",
    "# calculate the uncertainties in our coefficients\n",
    "print(\"Parameter uncertainties (1 sigma):\")\n",
    "perr_samePer_DHPS = np.sqrt(np.diag(pcov_samePer_DHPS))\n",
    "display(perr_samePer_DHPS)\n",
    "\n",
    "print(\"Parameter fits for model where length of period (2nd, 5th, 8th values) is allowed to vary:\")\n",
    "display(popt_varPer_DHPS)\n",
    "print(\"R-squared of fit:\")\n",
    "residuals_varPer_DHPS = ConcDHPS_noNan - multWaves_func_varPer_3(TimestampDHPS_secFromStart_alt, *popt_varPer_DHPS)\n",
    "ss_res_varPer_DHPS = np.sum(residuals_varPer_DHPS**2)\n",
    "ss_tot_varPer_DHPS = np.sum((ConcDHPS_noNan-np.mean(ConcDHPS_noNan))**2)\n",
    "r_squared_varPer_DHPS = 1 - (ss_res_varPer_DHPS / ss_tot_varPer_DHPS)\n",
    "display(r_squared_varPer_DHPS)\n",
    "# calculate the uncertainties\n",
    "print(\"Parameter uncertainties (1 sigma):\")\n",
    "perr_varPer_DHPS = np.sqrt(np.diag(pcov_varPer_DHPS))\n",
    "display(perr_varPer_DHPS)\n",
    "\n",
    "# some basic hypothesis testing for significance\n",
    "\n",
    "# define test statistics as popt_varPer_DHPS / perr_varPer_DHPS\n",
    "DHPS_varPer_3_teststats = popt_varPer_DHPS / perr_varPer_DHPS\n",
    "print(\"Test statistics:\")\n",
    "np.set_printoptions(suppress=True)\n",
    "display(DHPS_varPer_3_teststats)\n",
    "\n",
    "# calculate degrees of freedom, critical values\n",
    "print(\"Degrees of freedom:\")\n",
    "DHPS_varPer_3_df = len(TimestampDHPS_secFromStart_alt) - len(popt_varPer_DHPS) - 1\n",
    "display(DHPS_varPer_3_df)\n",
    "\n",
    "print(\"Critical values:\")\n",
    "DHPS_varPer_3_crit = [-t.ppf(1-.05/2,DHPS_varPer_3_df), t.ppf(1-.05/2,DHPS_varPer_3_df)]\n",
    "display(DHPS_varPer_3_crit)\n",
    "\n",
    "# a, d, g: amplitudes\n",
    "# b, e, h: period\n",
    "# c, f, i: phase\n",
    "# j: y-offset\n",
    "# k: slope of linear trend (if any)\n"
   ]
  },
  {
   "cell_type": "markdown",
   "metadata": {},
   "source": [
    "Now, let's take a look at a plot of the data, with the curve fit (varying period length allowed)"
   ]
  },
  {
   "cell_type": "code",
   "execution_count": 17,
   "metadata": {},
   "outputs": [
    {
     "data": {
      "text/plain": [
       "[<matplotlib.lines.Line2D at 0x1a1168e6d8>]"
      ]
     },
     "execution_count": 17,
     "metadata": {},
     "output_type": "execute_result"
    },
    {
     "data": {
      "image/png": "[encoded data removed]",
      "text/plain": [
       "<matplotlib.figure.Figure at 0x1a1134c5f8>"
      ]
     },
     "metadata": {},
     "output_type": "display_data"
    }
   ],
   "source": [
    "fig = plt.figure(figsize=(14, 7))\n",
    "\n",
    "plt.plot(TimestampDHPS_secFromStart_alt, multWaves_func_varPer_3(TimestampDHPS_secFromStart_alt, *popt_varPer_DHPS), 'r.')\n",
    "plt.plot(TimestampDHPS_secFromStart_alt, ConcDHPS_noNan, 'b.')\n",
    "plt.plot(pandas.Series(list(range(0, int(TimestampDHPS_secFromStart_alt[len(TimestampDHPS_secFromStart_alt)-1]), 2000))), multWaves_func_varPer_3(\n",
    "   pandas.Series(list(range(0, int(TimestampDHPS_secFromStart_alt[len(TimestampDHPS_secFromStart_alt)-1]), 2000))), *popt_varPer_DHPS), 'g-')"
   ]
  },
  {
   "cell_type": "markdown",
   "metadata": {},
   "source": [
    "A plot of the data, with the curve fit (length of period required to be constant)"
   ]
  },
  {
   "cell_type": "code",
   "execution_count": 18,
   "metadata": {},
   "outputs": [
    {
     "data": {
      "text/plain": [
       "[<matplotlib.lines.Line2D at 0x1a10d579b0>]"
      ]
     },
     "execution_count": 18,
     "metadata": {},
     "output_type": "execute_result"
    },
    {
     "data": {
      "image/png": "[encoded data removed]",
      "text/plain": [
       "<matplotlib.figure.Figure at 0x1a10dae240>"
      ]
     },
     "metadata": {},
     "output_type": "display_data"
    }
   ],
   "source": [
    "fig = plt.figure(figsize=(14, 7))\n",
    "\n",
    "plt.plot(TimestampDHPS_secFromStart_alt, multWaves_func_samePer_3(TimestampDHPS_secFromStart_alt, *popt_samePer_DHPS), 'r.')\n",
    "plt.plot(TimestampDHPS_secFromStart_alt, ConcDHPS_noNan, 'b.')\n",
    "plt.plot(pandas.Series(list(range(0, int(TimestampDHPS_secFromStart_alt[len(TimestampDHPS_secFromStart_alt)-1]), 2000))), multWaves_func_samePer_3(\n",
    "   pandas.Series(list(range(0, int(TimestampDHPS_secFromStart_alt[len(TimestampDHPS_secFromStart_alt)-1]), 2000))), *popt_samePer_DHPS), 'g-')"
   ]
  },
  {
   "cell_type": "markdown",
   "metadata": {},
   "source": [
    "Look at the two together"
   ]
  },
  {
   "cell_type": "code",
   "execution_count": 29,
   "metadata": {},
   "outputs": [
    {
     "data": {
      "image/png": "[encoded data removed]",
      "text/plain": [
       "<matplotlib.figure.Figure at 0x1a11f340b8>"
      ]
     },
     "metadata": {},
     "output_type": "display_data"
    }
   ],
   "source": [
    "# get, store current timezone setting\n",
    "current_matplotTZ = plt.rcParams['timezone']\n",
    "# set to 'Pacific/Honolulu' temporarily\n",
    "plt.rcParams['timezone'] = 'Pacific/Honolulu' \n",
    "\n",
    "fig = plt.figure(figsize=(14, 7))\n",
    "\n",
    "ax1 = fig.add_subplot(111)\n",
    "ax1.plot(TimestampDHPS_noNan,ConcDHPS_noNan, 'b.', label = 'DHPS concentration (data)')\n",
    "ax1.xaxis.set_major_locator(pltdates.DayLocator(interval=1))\n",
    "ax1.xaxis.set_minor_locator(pltdates.HourLocator(byhour=12))\n",
    "ax1.xaxis.set_major_formatter(pltdates.DateFormatter('%H:%M%\\n%b %d %Y')) \n",
    "ax1.xaxis.set_minor_formatter(pltdates.DateFormatter('%H:%M')) \n",
    "ax1.xaxis_date(pytz.timezone('Pacific/Honolulu'))\n",
    "plt.ylabel('DHPS concentration (pmol/L)')\n",
    "\n",
    "ax2 = ax1.twiny()\n",
    "ax2.plot(pandas.Series(list(range(0, int(TimestampDHPS_secFromStart_alt[len(TimestampDHPS_secFromStart_alt)-1]), 2000))), multWaves_func_samePer_3(\n",
    "   pandas.Series(list(range(0, int(TimestampDHPS_secFromStart_alt[len(TimestampDHPS_secFromStart_alt)-1]), 2000))), *popt_samePer_DHPS), 'g-', label = 'Sinusoidal curve fit with constant period length')\n",
    "ax2.plot(pandas.Series(list(range(0, int(TimestampDHPS_secFromStart_alt[len(TimestampDHPS_secFromStart_alt)-1]), 2000))), multWaves_func_varPer_3(\n",
    "   pandas.Series(list(range(0, int(TimestampDHPS_secFromStart_alt[len(TimestampDHPS_secFromStart_alt)-1]), 2000))), *popt_varPer_DHPS), 'r-', label = 'Sinusoidal curve fit with period length allowed to vary')\n",
    "plt.xlabel('Time (seconds since experiment start)')\n",
    "\n",
    "fig.legend(bbox_to_anchor=(.8, .8))\n",
    "\n",
    "# set matplotlib timezone back\n",
    "plt.rcParams['timezone'] = current_matplotTZ\n"
   ]
  },
  {
   "cell_type": "markdown",
   "metadata": {},
   "source": [
    "#### Sulfonate data: Cysteinolic acid (four periods)"
   ]
  },
  {
   "cell_type": "code",
   "execution_count": 76,
   "metadata": {},
   "outputs": [
    {
     "name": "stdout",
     "output_type": "stream",
     "text": [
      "Parameter fits for model where length of period (2nd, 5th, 8th, 11th values) is allowed to vary:\n"
     ]
    },
    {
     "data": {
      "text/plain": [
       "array([ 5.63161946e+06,  7.99999966e+05, -2.99849706e+05,  1.43176884e+07,\n",
       "        7.68344903e+04, -3.00175547e+05,  6.23200914e+08,  7.54428252e+04,\n",
       "       -2.99998713e+05,  6.27737410e+08,  7.54537929e+04, -3.00001872e+05,\n",
       "        5.31987951e+06,  1.20318536e+01])"
      ]
     },
     "metadata": {},
     "output_type": "display_data"
    },
    {
     "name": "stdout",
     "output_type": "stream",
     "text": [
      "R-squared of fit:\n"
     ]
    },
    {
     "data": {
      "text/plain": [
       "0.44009704142002126"
      ]
     },
     "metadata": {},
     "output_type": "display_data"
    },
    {
     "name": "stdout",
     "output_type": "stream",
     "text": [
      "Parameter uncertainties (1 sigma):\n"
     ]
    },
    {
     "data": {
      "text/plain": [
       "array([6.48047056e+07, 4.18656017e+06, 4.09001788e+00, 2.16621814e+09,\n",
       "       1.06343195e+05, 2.76544432e+01, 1.58426254e+09, 4.66324216e+04,\n",
       "       1.98248368e+02, 1.58361539e+09, 4.72533592e+04, 1.99491631e+02,\n",
       "       7.15992072e+06, 2.71342167e+02])"
      ]
     },
     "metadata": {},
     "output_type": "display_data"
    },
    {
     "name": "stdout",
     "output_type": "stream",
     "text": [
      "Test statistics:\n"
     ]
    },
    {
     "data": {
      "text/plain": [
       "array([     0.0869014 ,      0.19108766, -73312.56593986,      0.00660953,\n",
       "            0.72251441, -10854.51424893,      0.39336972,      1.61781916,\n",
       "        -1513.24682451,      0.39639512,      1.59679215,  -1503.83186615,\n",
       "            0.74300816,      0.044342  ])"
      ]
     },
     "metadata": {},
     "output_type": "display_data"
    },
    {
     "name": "stdout",
     "output_type": "stream",
     "text": [
      "Degrees of freedom:\n"
     ]
    },
    {
     "data": {
      "text/plain": [
       "57"
      ]
     },
     "metadata": {},
     "output_type": "display_data"
    },
    {
     "name": "stdout",
     "output_type": "stream",
     "text": [
      "Critical values:\n"
     ]
    },
    {
     "data": {
      "text/plain": [
       "[-1.6720288881322787, 1.6720288881322787]"
      ]
     },
     "metadata": {},
     "output_type": "display_data"
    },
    {
     "data": {
      "image/png": "[encoded data removed]",
      "text/plain": [
       "<matplotlib.figure.Figure at 0x1a1256fdd8>"
      ]
     },
     "metadata": {},
     "output_type": "display_data"
    }
   ],
   "source": [
    "# remove NaNs\n",
    "TimestampCysteinolic_noNan = dielSulfonates['Timestamp_bottle_closure_GMT_ISO8601'][~np.isnan(dielSulfonates['Cysteinolic_acid_PA.L'])]\n",
    "ConcCysteinolic_noNan = dielSulfonates['Cysteinolic_acid_PA.L'][~np.isnan(dielSulfonates['Cysteinolic_acid_PA.L'])]\n",
    "\n",
    "# create time objects\n",
    "TimestampCysteinolic_secFromStart = TimestampCysteinolic_noNan-TimestampCysteinolic_noNan[0]\n",
    "\n",
    "TimestampCysteinolic_secFromStart_alt = (\n",
    "    TimestampCysteinolic_secFromStart.apply(\n",
    "        lambda x: x.total_seconds()))\n",
    "\n",
    "# do the fitting, with function defined above\n",
    "popt_varPer_Cysteinolic, pcov_varPer_Cysteinolic = curve_fit(multWaves_func_varPer_4, TimestampCysteinolic_secFromStart_alt, ConcCysteinolic_noNan, bounds=(\n",
    "    [100000, 50000, -1000000, 100000, 95000, -1000000, 100000, 50000, -1000000, 100000, 50000, -1000000, -1000000, -1000000], (\n",
    "        [300000000, 1500000, 200000, 300000000, 150000, 200000, 300000000, 150000, 200000, 300000000, 150000, 200000, 200000, 200000])))\n",
    "\n",
    "# output results, and some diagnostics\n",
    "print(\"Parameter fits for model where length of period (2nd, 5th, 8th, 11th values) is allowed to vary:\")\n",
    "display(popt_varPer_Cysteinolic)\n",
    "print(\"R-squared of fit:\")\n",
    "residuals_varPer_Cysteinolic = ConcCysteinolic_noNan - multWaves_func_varPer_4(TimestampCysteinolic_secFromStart_alt, *popt_varPer_Cysteinolic)\n",
    "ss_res_varPer_Cysteinolic = np.sum(residuals_varPer_Cysteinolic**2)\n",
    "ss_tot_varPer_Cysteinolic = np.sum((ConcCysteinolic_noNan-np.mean(ConcCysteinolic_noNan))**2)\n",
    "r_squared_varPer_Cysteinolic = 1 - (ss_res_varPer_Cysteinolic / ss_tot_varPer_Cysteinolic)\n",
    "display(r_squared_varPer_Cysteinolic)\n",
    "# calculate the uncertainties\n",
    "print(\"Parameter uncertainties (1 sigma):\")\n",
    "perr_varPer_Cysteinolic = np.sqrt(np.diag(pcov_varPer_Cysteinolic))\n",
    "display(perr_varPer_Cysteinolic)\n",
    "\n",
    "# some basic hypothesis testing for significance\n",
    "\n",
    "# define test statistics as popt_varPer_DHPS / perr_varPer_DHPS\n",
    "Cysteinolic_varPer_4_teststats = popt_varPer_Cysteinolic / perr_varPer_Cysteinolic\n",
    "print(\"Test statistics:\")\n",
    "np.set_printoptions(suppress=True)\n",
    "display(Cysteinolic_varPer_4_teststats)\n",
    "\n",
    "# calculate degrees of freedom, critical values\n",
    "print(\"Degrees of freedom:\")\n",
    "Cysteinolic_varPer_4_df = len(TimestampCysteinolic_secFromStart_alt) - len(popt_varPer_Cysteinolic) - 1\n",
    "display(Cysteinolic_varPer_4_df)\n",
    "\n",
    "print(\"Critical values at alpha = 0.1:\")\n",
    "Cysteinolic_varPer_4_crit = [-t.ppf(1-.1/2,Cysteinolic_varPer_4_df), t.ppf(1-.1/2,Cysteinolic_varPer_4_df)]\n",
    "display(Cysteinolic_varPer_4_crit)\n",
    "\n",
    "print(\"Critical values at alpha = 0.05:\")\n",
    "Cysteinolic_varPer_4_crit = [-t.ppf(1-.05/2,Cysteinolic_varPer_4_df), t.ppf(1-.05/2,Cysteinolic_varPer_4_df)]\n",
    "display(Cysteinolic_varPer_4_crit)\n",
    "\n",
    "# make plot\n",
    "\n",
    "# get, store current timezone setting\n",
    "current_matplotTZ = plt.rcParams['timezone']\n",
    "# set to 'Pacific/Honolulu' temporarily\n",
    "plt.rcParams['timezone'] = 'Pacific/Honolulu' \n",
    "\n",
    "fig = plt.figure(figsize=(14, 7))\n",
    "\n",
    "ax1 = fig.add_subplot(111)\n",
    "ax1.plot(TimestampCysteinolic_noNan,ConcCysteinolic_noNan, 'b.', label = 'Cysteinolic acid concentration (data)')\n",
    "ax1.xaxis.set_major_locator(pltdates.DayLocator(interval=1))\n",
    "ax1.xaxis.set_minor_locator(pltdates.HourLocator(byhour=12))\n",
    "ax1.xaxis.set_major_formatter(pltdates.DateFormatter('%H:%M%\\n%b %d %Y')) \n",
    "ax1.xaxis.set_minor_formatter(pltdates.DateFormatter('%H:%M')) \n",
    "ax1.xaxis_date(pytz.timezone('Pacific/Honolulu'))\n",
    "plt.ylabel('Cysteinolic acid (pmol/L)')\n",
    "\n",
    "ax2 = ax1.twiny()\n",
    "ax2.plot(pandas.Series(list(range(0, int(TimestampCysteinolic_secFromStart_alt[len(TimestampCysteinolic_secFromStart_alt)-1]), 2000))), multWaves_func_varPer_4(\n",
    "   pandas.Series(list(range(0, int(TimestampCysteinolic_secFromStart_alt[len(TimestampCysteinolic_secFromStart_alt)-1]), 2000))), *popt_varPer_Cysteinolic), 'r-', label = 'Sinusoidal curve fit with period length allowed to vary')\n",
    "plt.xlabel('Time (seconds since experiment start)')\n",
    "\n",
    "fig.legend(bbox_to_anchor=(.8, .8))\n",
    "\n",
    "# set matplotlib timezone back\n",
    "plt.rcParams['timezone'] = current_matplotTZ\n"
   ]
  },
  {
   "cell_type": "markdown",
   "metadata": {},
   "source": [
    "#### Sulfonate data: Isethionic acid (three periods)"
   ]
  },
  {
   "cell_type": "code",
   "execution_count": 41,
   "metadata": {},
   "outputs": [
    {
     "name": "stdout",
     "output_type": "stream",
     "text": [
      "Parameter fits for model where length of period (2nd, 5th, 8th values) is allowed to vary:\n"
     ]
    },
    {
     "data": {
      "text/plain": [
       "array([    -2.56069378, 199999.9999983 ,  14579.15248723,     13.62467832,\n",
       "        85968.91695113,  14606.89020605,      9.29405903,  70942.59605321,\n",
       "        14624.99450507,     37.80955554,     -0.0000865 ])"
      ]
     },
     "metadata": {},
     "output_type": "display_data"
    },
    {
     "name": "stdout",
     "output_type": "stream",
     "text": [
      "R-squared of fit:\n"
     ]
    },
    {
     "data": {
      "text/plain": [
       "0.6802018336384881"
      ]
     },
     "metadata": {},
     "output_type": "display_data"
    },
    {
     "name": "stdout",
     "output_type": "stream",
     "text": [
      "Parameter uncertainties (1 sigma):\n"
     ]
    },
    {
     "data": {
      "text/plain": [
       "array([     4.65462338, 303058.1947764 ,      6.21223335,      3.35362163,\n",
       "         4236.24645709,      0.67859456,      4.84474071,   7569.83527811,\n",
       "            1.22875414,     13.3823088 ,      0.00009943])"
      ]
     },
     "metadata": {},
     "output_type": "display_data"
    },
    {
     "name": "stdout",
     "output_type": "stream",
     "text": [
      "Test statistics:\n"
     ]
    },
    {
     "data": {
      "text/plain": [
       "array([   -0.55013984,     0.65993926,  2346.84559555,     4.06267606,\n",
       "          20.29365331, 21525.20977108,     1.91838111,     9.37174898,\n",
       "       11902.2952318 ,     2.82533874,    -0.87000464])"
      ]
     },
     "metadata": {},
     "output_type": "display_data"
    },
    {
     "name": "stdout",
     "output_type": "stream",
     "text": [
      "Degrees of freedom:\n"
     ]
    },
    {
     "data": {
      "text/plain": [
       "48"
      ]
     },
     "metadata": {},
     "output_type": "display_data"
    },
    {
     "name": "stdout",
     "output_type": "stream",
     "text": [
      "Critical values:\n"
     ]
    },
    {
     "data": {
      "text/plain": [
       "[-2.0106347546964454, 2.0106347546964454]"
      ]
     },
     "metadata": {},
     "output_type": "display_data"
    },
    {
     "data": {
      "image/png": "[encoded data removed]",
      "text/plain": [
       "<matplotlib.figure.Figure at 0x1a117a0c88>"
      ]
     },
     "metadata": {},
     "output_type": "display_data"
    }
   ],
   "source": [
    "# remove NaNs\n",
    "TimestampIsethionic_noNan = dielSulfonates['Timestamp_bottle_closure_GMT_ISO8601'][~np.isnan(dielSulfonates['Isethionic_Acid_pmol.L'])]\n",
    "ConcIsethionic_noNan = dielSulfonates['Isethionic_Acid_pmol.L'][~np.isnan(dielSulfonates['Isethionic_Acid_pmol.L'])]\n",
    "\n",
    "# create time objects\n",
    "TimestampIsethionic_secFromStart = TimestampIsethionic_noNan-TimestampIsethionic_noNan[0]\n",
    "\n",
    "TimestampIsethionic_secFromStart_alt = (\n",
    "    TimestampIsethionic_secFromStart.apply(\n",
    "        lambda x: x.total_seconds()))\n",
    "\n",
    "# do the fitting, with function defined above\n",
    "popt_varPer_Isethionic, pcov_varPer_Isethionic = curve_fit(multWaves_func_varPer_3, TimestampIsethionic_secFromStart_alt, ConcIsethionic_noNan, bounds=(\n",
    "    [-10000, 40000, -100000, -10000, 40000, -100000, -10000, 40000, -100000, -100000, -100000], (\n",
    "        [15000, 200000, 150000, 15000, 200000, 150000, 15000, 200000, 150000, 150000, 150000])))\n",
    "\n",
    "# output results, and some diagnostics\n",
    "print(\"Parameter fits for model where length of period (2nd, 5th, 8th values) is allowed to vary:\")\n",
    "display(popt_varPer_Isethionic)\n",
    "print(\"R-squared of fit:\")\n",
    "residuals_varPer_Isethionic = ConcIsethionic_noNan - multWaves_func_varPer_3(TimestampIsethionic_secFromStart_alt, *popt_varPer_Isethionic)\n",
    "ss_res_varPer_Isethionic = np.sum(residuals_varPer_Isethionic**2)\n",
    "ss_tot_varPer_Isethionic = np.sum((ConcIsethionic_noNan-np.mean(ConcIsethionic_noNan))**2)\n",
    "r_squared_varPer_Isethionic = 1 - (ss_res_varPer_Isethionic / ss_tot_varPer_Isethionic)\n",
    "display(r_squared_varPer_Isethionic)\n",
    "# calculate the uncertainties\n",
    "print(\"Parameter uncertainties (1 sigma):\")\n",
    "perr_varPer_Isethionic = np.sqrt(np.diag(pcov_varPer_Isethionic))\n",
    "display(perr_varPer_Isethionic)\n",
    "\n",
    "# some basic hypothesis testing for significance\n",
    "\n",
    "# define test statistics as popt_varPer_DHPS / perr_varPer_DHPS\n",
    "Isethionic_varPer_3_teststats = popt_varPer_Isethionic / perr_varPer_Isethionic\n",
    "print(\"Test statistics:\")\n",
    "np.set_printoptions(suppress=True)\n",
    "display(Isethionic_varPer_3_teststats)\n",
    "\n",
    "# calculate degrees of freedom, critical values\n",
    "print(\"Degrees of freedom:\")\n",
    "Isethionic_varPer_3_df = len(TimestampIsethionic_secFromStart_alt) - len(popt_varPer_Isethionic) - 1\n",
    "display(Isethionic_varPer_3_df)\n",
    "\n",
    "print(\"Critical values:\")\n",
    "Isethionic_varPer_3_crit = [-t.ppf(1-.05/2,Isethionic_varPer_3_df), t.ppf(1-.05/2,Isethionic_varPer_3_df)]\n",
    "display(Isethionic_varPer_3_crit)\n",
    "\n",
    "# make plot\n",
    "\n",
    "# get, store current timezone setting\n",
    "current_matplotTZ = plt.rcParams['timezone']\n",
    "# set to 'Pacific/Honolulu' temporarily\n",
    "plt.rcParams['timezone'] = 'Pacific/Honolulu' \n",
    "\n",
    "fig = plt.figure(figsize=(14, 7))\n",
    "\n",
    "ax1 = fig.add_subplot(111)\n",
    "ax1.plot(TimestampIsethionic_noNan,ConcIsethionic_noNan, 'b.', label = 'Isethionic acid concentration (data)')\n",
    "ax1.xaxis.set_major_locator(pltdates.DayLocator(interval=1))\n",
    "ax1.xaxis.set_minor_locator(pltdates.HourLocator(byhour=12))\n",
    "ax1.xaxis.set_major_formatter(pltdates.DateFormatter('%H:%M%\\n%b %d %Y')) \n",
    "ax1.xaxis.set_minor_formatter(pltdates.DateFormatter('%H:%M')) \n",
    "ax1.xaxis_date(pytz.timezone('Pacific/Honolulu'))\n",
    "plt.ylabel('Isethionic acid (pmol/L)')\n",
    "\n",
    "ax2 = ax1.twiny()\n",
    "ax2.plot(pandas.Series(list(range(0, int(TimestampIsethionic_secFromStart_alt[len(TimestampIsethionic_secFromStart_alt)-1]), 2000))), multWaves_func_varPer_3(\n",
    "   pandas.Series(list(range(0, int(TimestampIsethionic_secFromStart_alt[len(TimestampIsethionic_secFromStart_alt)-1]), 2000))), *popt_varPer_Isethionic), 'r-', label = 'Sinusoidal curve fit with period length allowed to vary')\n",
    "plt.xlabel('Time (seconds since experiment start)')\n",
    "\n",
    "fig.legend(bbox_to_anchor=(.8, .8))\n",
    "\n",
    "# set matplotlib timezone back\n",
    "plt.rcParams['timezone'] = current_matplotTZ\n"
   ]
  },
  {
   "cell_type": "markdown",
   "metadata": {},
   "source": [
    "#### Sulfonate data: Taurine (three periods)"
   ]
  },
  {
   "cell_type": "markdown",
   "metadata": {},
   "source": [
    "The taurine plot still looks pretty iffy... doubt there's much legit diel periodicity going on here"
   ]
  },
  {
   "cell_type": "code",
   "execution_count": 42,
   "metadata": {},
   "outputs": [
    {
     "ename": "RuntimeError",
     "evalue": "Optimal parameters not found: The maximum number of function evaluations is exceeded.",
     "output_type": "error",
     "traceback": [
      "\u001b[0;31m---------------------------------------------------------------------------\u001b[0m",
      "\u001b[0;31mRuntimeError\u001b[0m                              Traceback (most recent call last)",
      "\u001b[0;32m<ipython-input-42-fe2902f4881f>\u001b[0m in \u001b[0;36m<module>\u001b[0;34m()\u001b[0m\n\u001b[1;32m     13\u001b[0m popt_varPer_Taurine, pcov_varPer_Taurine = curve_fit(multWaves_func_varPer_3, TimestampTaurine_secFromStart_alt, ConcTaurine_noNan, bounds=(\n\u001b[1;32m     14\u001b[0m     [-10000, 40000, -100000, -10000, 40000, -100000, -10000, 40000, -100000, -100000, -100000], (\n\u001b[0;32m---> 15\u001b[0;31m         [15000, 200000, 150000, 15000, 200000, 150000, 15000, 200000, 150000, 150000, 150000])))\n\u001b[0m\u001b[1;32m     16\u001b[0m \u001b[0;31m#max_nfev = 10000\u001b[0m\u001b[0;34m\u001b[0m\u001b[0;34m\u001b[0m\u001b[0m\n\u001b[1;32m     17\u001b[0m \u001b[0;34m\u001b[0m\u001b[0m\n",
      "\u001b[0;32m~/.pyenv/versions/anaconda3-5.1.0/lib/python3.6/site-packages/scipy/optimize/minpack.py\u001b[0m in \u001b[0;36mcurve_fit\u001b[0;34m(f, xdata, ydata, p0, sigma, absolute_sigma, check_finite, bounds, method, jac, **kwargs)\u001b[0m\n\u001b[1;32m    754\u001b[0m \u001b[0;34m\u001b[0m\u001b[0m\n\u001b[1;32m    755\u001b[0m         \u001b[0;32mif\u001b[0m \u001b[0;32mnot\u001b[0m \u001b[0mres\u001b[0m\u001b[0;34m.\u001b[0m\u001b[0msuccess\u001b[0m\u001b[0;34m:\u001b[0m\u001b[0;34m\u001b[0m\u001b[0m\n\u001b[0;32m--> 756\u001b[0;31m             \u001b[0;32mraise\u001b[0m \u001b[0mRuntimeError\u001b[0m\u001b[0;34m(\u001b[0m\u001b[0;34m\"Optimal parameters not found: \"\u001b[0m \u001b[0;34m+\u001b[0m \u001b[0mres\u001b[0m\u001b[0;34m.\u001b[0m\u001b[0mmessage\u001b[0m\u001b[0;34m)\u001b[0m\u001b[0;34m\u001b[0m\u001b[0m\n\u001b[0m\u001b[1;32m    757\u001b[0m \u001b[0;34m\u001b[0m\u001b[0m\n\u001b[1;32m    758\u001b[0m         \u001b[0mcost\u001b[0m \u001b[0;34m=\u001b[0m \u001b[0;36m2\u001b[0m \u001b[0;34m*\u001b[0m \u001b[0mres\u001b[0m\u001b[0;34m.\u001b[0m\u001b[0mcost\u001b[0m  \u001b[0;31m# res.cost is half sum of squares!\u001b[0m\u001b[0;34m\u001b[0m\u001b[0m\n",
      "\u001b[0;31mRuntimeError\u001b[0m: Optimal parameters not found: The maximum number of function evaluations is exceeded."
     ]
    }
   ],
   "source": [
    "# remove NaNs\n",
    "TimestampTaurine_noNan = dielSulfonates['Timestamp_bottle_closure_GMT_ISO8601'][~np.isnan(dielSulfonates['Taurine_pmol.L'])]\n",
    "ConcTaurine_noNan = dielSulfonates['Taurine_pmol.L'][~np.isnan(dielSulfonates['Taurine_pmol.L'])]\n",
    "\n",
    "# create time objects\n",
    "TimestampTaurine_secFromStart = TimestampTaurine_noNan-TimestampTaurine_noNan[0]\n",
    "\n",
    "TimestampTaurine_secFromStart_alt = (\n",
    "    TimestampTaurine_secFromStart.apply(\n",
    "        lambda x: x.total_seconds()))\n",
    "\n",
    "# do the fitting, with function defined above\n",
    "popt_varPer_Taurine, pcov_varPer_Taurine = curve_fit(multWaves_func_varPer_3, TimestampTaurine_secFromStart_alt, ConcTaurine_noNan, bounds=(\n",
    "    [-10000, 40000, -100000, -10000, 40000, -100000, -10000, 40000, -100000, -100000, -100000], (\n",
    "        [15000, 200000, 150000, 15000, 200000, 150000, 15000, 200000, 150000, 150000, 150000])))\n",
    "#max_nfev = 10000\n",
    "\n",
    "# output results, and some diagnostics\n",
    "print(\"Parameter fits for model where length of period (2nd, 5th, 8th values) is allowed to vary:\")\n",
    "display(popt_varPer_Taurine)\n",
    "print(\"R-squared of fit:\")\n",
    "residuals_varPer_Taurine = ConcTaurine_noNan - multWaves_func_varPer_3(TimestampTaurine_secFromStart_alt, *popt_varPer_Taurine)\n",
    "ss_res_varPer_Taurine = np.sum(residuals_varPer_Taurine**2)\n",
    "ss_tot_varPer_Taurine = np.sum((ConcTaurine_noNan-np.mean(ConcTaurine_noNan))**2)\n",
    "r_squared_varPer_Taurine = 1 - (ss_res_varPer_Taurine / ss_tot_varPer_Taurine)\n",
    "display(r_squared_varPer_Taurine)\n",
    "# calculate the uncertainties\n",
    "print(\"Parameter uncertainties (1 sigma):\")\n",
    "perr_varPer_Taurine = np.sqrt(np.diag(pcov_varPer_Taurine))\n",
    "display(perr_varPer_Taurine)\n",
    "\n",
    "# make plot\n",
    "\n",
    "# get, store current timezone setting\n",
    "current_matplotTZ = plt.rcParams['timezone']\n",
    "# set to 'Pacific/Honolulu' temporarily\n",
    "plt.rcParams['timezone'] = 'Pacific/Honolulu' \n",
    "\n",
    "fig = plt.figure(figsize=(14, 7))\n",
    "\n",
    "ax1 = fig.add_subplot(111)\n",
    "ax1.plot(TimestampTaurine_noNan,ConcTaurine_noNan, 'b.', label = 'Taurine concentration (data)')\n",
    "ax1.xaxis.set_major_locator(pltdates.DayLocator(interval=1))\n",
    "ax1.xaxis.set_minor_locator(pltdates.HourLocator(byhour=12))\n",
    "ax1.xaxis.set_major_formatter(pltdates.DateFormatter('%H:%M%\\n%b %d %Y')) \n",
    "ax1.xaxis.set_minor_formatter(pltdates.DateFormatter('%H:%M')) \n",
    "ax1.xaxis_date(pytz.timezone('Pacific/Honolulu'))\n",
    "plt.ylabel('Taurine (pmol/L)')\n",
    "\n",
    "ax2 = ax1.twiny()\n",
    "ax2.plot(pandas.Series(list(range(0, int(TimestampTaurine_secFromStart_alt[len(TimestampTaurine_secFromStart_alt)-1]), 2000))), multWaves_func_varPer_3(\n",
    "   pandas.Series(list(range(0, int(TimestampTaurine_secFromStart_alt[len(TimestampTaurine_secFromStart_alt)-1]), 2000))), *popt_varPer_Taurine), 'r-', label = 'Sinusoidal curve fit with period length allowed to vary')\n",
    "plt.xlabel('Time (seconds since experiment start)')\n",
    "\n",
    "fig.legend(bbox_to_anchor=(.8, .8))\n",
    "\n",
    "# set matplotlib timezone back\n",
    "plt.rcParams['timezone'] = current_matplotTZ\n"
   ]
  },
  {
   "cell_type": "markdown",
   "metadata": {},
   "source": [
    "#### Seaflow data"
   ]
  },
  {
   "cell_type": "markdown",
   "metadata": {},
   "source": [
    "We'll truncate the data so the time domain (at least lower bound) is the same as the sulfur compound concentration data"
   ]
  },
  {
   "cell_type": "code",
   "execution_count": null,
   "metadata": {},
   "outputs": [],
   "source": [
    "# truncate data to same datetime range as the sulfur compound concentrations\n",
    "dielSeaFlow.trunc = dielSeaFlow[dielSeaFlow['Timestamp_ISO8601']>=min(TimestampDHPS_noNan)]\n",
    "#dielSeaFlow.trunc = dielSeaFlow.trunc[dielSeaFlow.trunc['Timestamp_ISO8601']<=max(TimestampDHPS_noNan)]\n",
    "\n",
    "# quick look at a plot\n",
    "# get, store current setting\n",
    "current_matplotTZ = plt.rcParams['timezone']\n",
    "# set to 'Pacific/Honolulu' temporarily\n",
    "plt.rcParams['timezone'] = 'Pacific/Honolulu' \n",
    "        \n",
    "fig = plt.figure(figsize=(14, 7))\n",
    "\n",
    "ax1 = fig.add_subplot(111)\n",
    "ax1.plot(dielSeaFlow.trunc['Timestamp_ISO8601'],dielSeaFlow.trunc['Sum of Cbiomass_ug.L'], 'b.')\n",
    "ax1.xaxis.set_major_locator(pltdates.DayLocator(interval=1))\n",
    "ax1.xaxis.set_minor_locator(pltdates.HourLocator(byhour=12))\n",
    "ax1.xaxis.set_major_formatter(pltdates.DateFormatter('%H:%M%\\n%b %d %Y')) \n",
    "ax1.xaxis.set_minor_formatter(pltdates.DateFormatter('%H:%M')) \n",
    "ax1.xaxis_date(pytz.timezone('Pacific/Honolulu'))\n",
    "\n",
    "# set matplotlib timezone back\n",
    "plt.rcParams['timezone'] = current_matplotTZ"
   ]
  },
  {
   "cell_type": "markdown",
   "metadata": {},
   "source": [
    "It's evident that the phase of the Seaflow data isn't the same as the sulfur compound data. We'll still try to fit s curve to it."
   ]
  },
  {
   "cell_type": "code",
   "execution_count": 23,
   "metadata": {},
   "outputs": [
    {
     "ename": "AttributeError",
     "evalue": "'DataFrame' object has no attribute 'trunc'",
     "output_type": "error",
     "traceback": [
      "\u001b[0;31m---------------------------------------------------------------------------\u001b[0m",
      "\u001b[0;31mAttributeError\u001b[0m                            Traceback (most recent call last)",
      "\u001b[0;32m<ipython-input-23-a33ee3190209>\u001b[0m in \u001b[0;36m<module>\u001b[0;34m()\u001b[0m\n\u001b[1;32m      1\u001b[0m \u001b[0;31m# convert time object\u001b[0m\u001b[0;34m\u001b[0m\u001b[0;34m\u001b[0m\u001b[0m\n\u001b[0;32m----> 2\u001b[0;31m \u001b[0mprint\u001b[0m\u001b[0;34m(\u001b[0m\u001b[0;34m\"Starting as:\"\u001b[0m\u001b[0;34m,\u001b[0m\u001b[0mtype\u001b[0m\u001b[0;34m(\u001b[0m\u001b[0mdielSeaFlow\u001b[0m\u001b[0;34m.\u001b[0m\u001b[0mtrunc\u001b[0m\u001b[0;34m[\u001b[0m\u001b[0;34m'Timestamp_ISO8601'\u001b[0m\u001b[0;34m]\u001b[0m\u001b[0;34m[\u001b[0m\u001b[0;36m0\u001b[0m\u001b[0;34m]\u001b[0m\u001b[0;34m)\u001b[0m\u001b[0;34m,\u001b[0m\u001b[0;34m\",\"\u001b[0m\u001b[0;34m,\u001b[0m\u001b[0mdielSeaFlow\u001b[0m\u001b[0;34m.\u001b[0m\u001b[0mtrunc\u001b[0m\u001b[0;34m[\u001b[0m\u001b[0;34m'Timestamp_ISO8601'\u001b[0m\u001b[0;34m]\u001b[0m\u001b[0;34m.\u001b[0m\u001b[0mdtypes\u001b[0m\u001b[0;34m)\u001b[0m\u001b[0;34m\u001b[0m\u001b[0m\n\u001b[0m\u001b[1;32m      3\u001b[0m \u001b[0mdisplay\u001b[0m\u001b[0;34m(\u001b[0m\u001b[0mdielSeaFlow\u001b[0m\u001b[0;34m.\u001b[0m\u001b[0mtrunc\u001b[0m\u001b[0;34m[\u001b[0m\u001b[0;34m'Timestamp_ISO8601'\u001b[0m\u001b[0;34m]\u001b[0m\u001b[0;34m.\u001b[0m\u001b[0mhead\u001b[0m\u001b[0;34m(\u001b[0m\u001b[0mn\u001b[0m\u001b[0;34m=\u001b[0m\u001b[0;36m3\u001b[0m\u001b[0;34m)\u001b[0m\u001b[0;34m)\u001b[0m\u001b[0;34m\u001b[0m\u001b[0m\n\u001b[1;32m      4\u001b[0m \u001b[0;34m\u001b[0m\u001b[0m\n\u001b[1;32m      5\u001b[0m \u001b[0mTimestampSeaflow_secFromStart\u001b[0m \u001b[0;34m=\u001b[0m \u001b[0mdielSeaFlow\u001b[0m\u001b[0;34m.\u001b[0m\u001b[0mtrunc\u001b[0m\u001b[0;34m[\u001b[0m\u001b[0;34m'Timestamp_ISO8601'\u001b[0m\u001b[0;34m]\u001b[0m\u001b[0;34m-\u001b[0m\u001b[0mdielSeaFlow\u001b[0m\u001b[0;34m.\u001b[0m\u001b[0mtrunc\u001b[0m\u001b[0;34m[\u001b[0m\u001b[0;34m'Timestamp_ISO8601'\u001b[0m\u001b[0;34m]\u001b[0m\u001b[0;34m[\u001b[0m\u001b[0;36m0\u001b[0m\u001b[0;34m]\u001b[0m\u001b[0;34m\u001b[0m\u001b[0m\n",
      "\u001b[0;32m~/.pyenv/versions/anaconda3-5.1.0/lib/python3.6/site-packages/pandas/core/generic.py\u001b[0m in \u001b[0;36m__getattr__\u001b[0;34m(self, name)\u001b[0m\n\u001b[1;32m   3612\u001b[0m             \u001b[0;32mif\u001b[0m \u001b[0mname\u001b[0m \u001b[0;32min\u001b[0m \u001b[0mself\u001b[0m\u001b[0;34m.\u001b[0m\u001b[0m_info_axis\u001b[0m\u001b[0;34m:\u001b[0m\u001b[0;34m\u001b[0m\u001b[0m\n\u001b[1;32m   3613\u001b[0m                 \u001b[0;32mreturn\u001b[0m \u001b[0mself\u001b[0m\u001b[0;34m[\u001b[0m\u001b[0mname\u001b[0m\u001b[0;34m]\u001b[0m\u001b[0;34m\u001b[0m\u001b[0m\n\u001b[0;32m-> 3614\u001b[0;31m             \u001b[0;32mreturn\u001b[0m \u001b[0mobject\u001b[0m\u001b[0;34m.\u001b[0m\u001b[0m__getattribute__\u001b[0m\u001b[0;34m(\u001b[0m\u001b[0mself\u001b[0m\u001b[0;34m,\u001b[0m \u001b[0mname\u001b[0m\u001b[0;34m)\u001b[0m\u001b[0;34m\u001b[0m\u001b[0m\n\u001b[0m\u001b[1;32m   3615\u001b[0m \u001b[0;34m\u001b[0m\u001b[0m\n\u001b[1;32m   3616\u001b[0m     \u001b[0;32mdef\u001b[0m \u001b[0m__setattr__\u001b[0m\u001b[0;34m(\u001b[0m\u001b[0mself\u001b[0m\u001b[0;34m,\u001b[0m \u001b[0mname\u001b[0m\u001b[0;34m,\u001b[0m \u001b[0mvalue\u001b[0m\u001b[0;34m)\u001b[0m\u001b[0;34m:\u001b[0m\u001b[0;34m\u001b[0m\u001b[0m\n",
      "\u001b[0;31mAttributeError\u001b[0m: 'DataFrame' object has no attribute 'trunc'"
     ]
    }
   ],
   "source": [
    "# convert time object\n",
    "print(\"Starting as:\",type(dielSeaFlow.trunc['Timestamp_ISO8601'][0]),\",\",dielSeaFlow.trunc['Timestamp_ISO8601'].dtypes)\n",
    "display(dielSeaFlow.trunc['Timestamp_ISO8601'].head(n=3))\n",
    "\n",
    "TimestampSeaflow_secFromStart = dielSeaFlow.trunc['Timestamp_ISO8601']-dielSeaFlow.trunc['Timestamp_ISO8601'][0]\n",
    "TimestampSeaflow_secFromStart_alt = (\n",
    "    TimestampSeaflow_secFromStart.apply(\n",
    "        lambda x: x.total_seconds()))\n",
    "\n",
    "print(\"As second increments:\")\n",
    "display(TimestampSeaflow_secFromStart_alt.head(n=20))"
   ]
  },
  {
   "cell_type": "markdown",
   "metadata": {},
   "source": [
    "Do the fitting for the Seaflow data; will use four periods instead of three"
   ]
  },
  {
   "cell_type": "code",
   "execution_count": null,
   "metadata": {},
   "outputs": [],
   "source": [
    "# do the fitting, with function defined above\n",
    "popt_samePer_SeaFlow, pcov_samePer_SeaFlow = curve_fit(multWaves_func_samePer_4, TimestampSeaflow_secFromStart_alt, dielSeaFlow.trunc['Sum of Cbiomass_ug.L'], bounds=(\n",
    "    [-100000, 50000, -100000, -100000, -100000, -100000, -100000, -100000, -100000, -100000, -100000], (\n",
    "        [150000, 100000, 150000, 150000, 150000, 150000, 150000, 150000, 150000, 150000, 15000])))\n",
    "\n",
    "# output results, and some diagnostics\n",
    "print(\"Parameter fits for model where length of period (2nd value) is kept constant:\")\n",
    "display(popt_samePer_SeaFlow)\n",
    "print(\"R-squared of fit:\")\n",
    "residuals_samePer_SeaFlow = dielSeaFlow.trunc['Sum of Cbiomass_ug.L'] - multWaves_func_samePer_4(TimestampSeaflow_secFromStart_alt, *popt_samePer_SeaFlow)\n",
    "ss_res_samePer_SeaFlow = np.sum(residuals_samePer_SeaFlow**2)\n",
    "ss_tot_samePer_SeaFlow = np.sum((dielSeaFlow.trunc['Sum of Cbiomass_ug.L']-np.mean(dielSeaFlow.trunc['Sum of Cbiomass_ug.L']))**2)\n",
    "r_squared_samePer_SeaFlow = 1 - (ss_res_samePer_SeaFlow / ss_tot_samePer_SeaFlow)\n",
    "display(r_squared_samePer_SeaFlow)\n",
    "# calculate the uncertainties in our coefficients\n",
    "print(\"Parameter uncertainties (1 sigma):\")\n",
    "perr_samePer_SeaFlow = np.sqrt(np.diag(pcov_samePer_SeaFlow))\n",
    "display(perr_samePer_SeaFlow)"
   ]
  },
  {
   "cell_type": "markdown",
   "metadata": {},
   "source": [
    "Now, let's take a look at a plot of the data, with the curve fit (period length fixed)"
   ]
  },
  {
   "cell_type": "code",
   "execution_count": null,
   "metadata": {},
   "outputs": [],
   "source": [
    "fig = plt.figure(figsize=(14, 7))\n",
    "\n",
    "plt.plot(TimestampSeaflow_secFromStart_alt, multWaves_func_samePer_4(TimestampSeaflow_secFromStart_alt, *popt_samePer_SeaFlow), 'r.')\n",
    "plt.plot(TimestampSeaflow_secFromStart_alt, dielSeaFlow.trunc['Sum of Cbiomass_ug.L'], 'b.')\n",
    "plt.plot(pandas.Series(list(range(0, int(TimestampSeaflow_secFromStart_alt[len(TimestampSeaflow_secFromStart_alt)-1]), 2000))), multWaves_func_samePer_4(\n",
    "   pandas.Series(list(range(0, int(TimestampSeaflow_secFromStart_alt[len(TimestampSeaflow_secFromStart_alt)-1]), 2000))), *popt_samePer_SeaFlow), 'g-')"
   ]
  },
  {
   "cell_type": "code",
   "execution_count": null,
   "metadata": {},
   "outputs": [],
   "source": [
    "# do the fitting, with function defined above\n",
    "popt_varPer_SeaFlow, pcov_varPer_SeaFlow = curve_fit(multWaves_func_varPer_4, TimestampSeaflow_secFromStart_alt, dielSeaFlow.trunc['Cbiomass_umol.L'], bounds=(\n",
    "    [-100000, 50000, -1000000, -100000, 95000, -1000000, -100000, 50000, -1000000, -100000, 50000, -1000000, -1000000, -1000000], (\n",
    "        [200000, 1500000, 200000, 200000, 150000, 200000, 200000, 150000, 200000, 200000, 150000, 200000, 200000, 200000])))\n",
    "\n",
    "# output results, and some diagnostics\n",
    "print(\"Parameter fits for model where length of period (2nd, 5th, 8th, 11th values) is allowed to vary:\")\n",
    "display(popt_varPer_SeaFlow)\n",
    "print(\"R-squared of fit:\")\n",
    "residuals_varPer_SeaFlow = dielSeaFlow.trunc['Cbiomass_umol.L'] - multWaves_func_varPer_4(TimestampSeaflow_secFromStart_alt, *popt_varPer_SeaFlow)\n",
    "ss_res_varPer_SeaFlow = np.sum(residuals_varPer_SeaFlow**2)\n",
    "ss_tot_varPer_SeaFlow = np.sum((dielSeaFlow.trunc['Cbiomass_umol.L']-np.mean(dielSeaFlow.trunc['Cbiomass_umol.L']))**2)\n",
    "r_squared_varPer_SeaFlow = 1 - (ss_res_varPer_SeaFlow / ss_tot_varPer_SeaFlow)\n",
    "display(r_squared_varPer_SeaFlow)\n",
    "\n",
    "# calculate the uncertainties\n",
    "print(\"Parameter uncertainties (1 sigma):\")\n",
    "perr_varPer_SeaFlow = np.sqrt(np.diag(pcov_varPer_SeaFlow))\n",
    "display(perr_varPer_SeaFlow)"
   ]
  },
  {
   "cell_type": "markdown",
   "metadata": {},
   "source": [
    "Now, let's take a look at some quick significance tests for various model parameters. Will use a series of two-tailed t-tests with alpha = 0.05.  "
   ]
  },
  {
   "cell_type": "code",
   "execution_count": null,
   "metadata": {},
   "outputs": [],
   "source": [
    "# define test statistics as popt_varPer_SeaFlow / perr_varPer_SeaFlow\n",
    "SeaFlow_varPer_4_teststats = popt_varPer_SeaFlow / perr_varPer_SeaFlow\n",
    "print(\"Test statistics:\")\n",
    "np.set_printoptions(suppress=True)\n",
    "display(SeaFlow_varPer_4_teststats)\n",
    "\n",
    "# calculate degrees of freedom, critical values\n",
    "print(\"Degrees of freedom:\")\n",
    "SeaFlow_varPer_4_df = len(TimestampSeaflow_secFromStart_alt) - len(popt_varPer_SeaFlow) - 1\n",
    "display(SeaFlow_varPer_4_df)\n",
    "\n",
    "print(\"Critical values:\")\n",
    "SeaFlow_varPer_4_crit = [-t.ppf(1-.05/2,SeaFlow_varPer_4_df), t.ppf(1-.05/2,SeaFlow_varPer_4_df)]\n",
    "display(SeaFlow_varPer_4_crit)"
   ]
  },
  {
   "cell_type": "markdown",
   "metadata": {},
   "source": [
    "We conclude that we cannot reject any model parameters at 0.05 since all the test statistics lie outside the range defined by the critical values."
   ]
  },
  {
   "cell_type": "markdown",
   "metadata": {},
   "source": [
    "Now, let's take a look at a plot of the data, with the curve fit (varying period length allowed)"
   ]
  },
  {
   "cell_type": "code",
   "execution_count": null,
   "metadata": {
    "scrolled": true
   },
   "outputs": [],
   "source": [
    "fig = plt.figure(figsize=(14, 7))\n",
    "\n",
    "plt.plot(TimestampSeaflow_secFromStart_alt, multWaves_func_varPer_4(TimestampSeaflow_secFromStart_alt, *popt_varPer_SeaFlow), 'r.')\n",
    "plt.plot(TimestampSeaflow_secFromStart_alt, dielSeaFlow.trunc['Cbiomass_umol.L'], 'b.')\n",
    "plt.plot(pandas.Series(list(range(0, int(TimestampSeaflow_secFromStart_alt[len(TimestampSeaflow_secFromStart_alt)-1]), 2000))), multWaves_func_varPer_4(\n",
    "   pandas.Series(list(range(0, int(TimestampSeaflow_secFromStart_alt[len(TimestampSeaflow_secFromStart_alt)-1]), 2000))), *popt_varPer_SeaFlow), 'g-')"
   ]
  },
  {
   "cell_type": "markdown",
   "metadata": {},
   "source": [
    "Plot of the variable-period fit to the Seaflow data"
   ]
  },
  {
   "cell_type": "code",
   "execution_count": null,
   "metadata": {},
   "outputs": [],
   "source": [
    "# get, store current timezone setting\n",
    "current_matplotTZ = plt.rcParams['timezone']\n",
    "# set to 'Pacific/Honolulu' temporarily\n",
    "plt.rcParams['timezone'] = 'Pacific/Honolulu' \n",
    "\n",
    "fig = plt.figure(figsize=(14, 7))\n",
    "\n",
    "ax1 = fig.add_subplot(111)\n",
    "ax1.plot(dielSeaFlow.trunc['Timestamp_ISO8601'],dielSeaFlow.trunc['Cbiomass_umol.L'], 'b.', label = 'SeaFlow biomass (umol/L)')\n",
    "ax1.xaxis.set_major_locator(pltdates.DayLocator(interval=1))\n",
    "ax1.xaxis.set_minor_locator(pltdates.HourLocator(byhour=12))\n",
    "ax1.xaxis.set_major_formatter(pltdates.DateFormatter('%H:%M%\\n%b %d %Y')) \n",
    "ax1.xaxis.set_minor_formatter(pltdates.DateFormatter('%H:%M')) \n",
    "ax1.xaxis_date(pytz.timezone('Pacific/Honolulu'))\n",
    "plt.ylabel('SeaFlow biomass (umol/L)')\n",
    "\n",
    "ax2 = ax1.twiny()\n",
    "#ax2.plot(pandas.Series(list(range(0, int(TimestampSeaflow_secFromStart_alt[len(TimestampSeaflow_secFromStart_alt)-1]), 2000))), multWaves_func_samePer_3(\n",
    "#   pandas.Series(list(range(0, int(TimestampSeaflow_secFromStart_alt[len(TimestampSeaflow_secFromStart_alt)-1]), 2000))), *popt_samePer), 'g-', label = 'Sinusoidal curve fit with constant period length')\n",
    "#ax2.plot(pandas.Series(list(range(0, int(TimestampSeaflow_secFromStart_alt[len(TimestampSeaflow_secFromStart_alt)-1]), 2000))), multWaves_func_varPer_4(\n",
    "#   pandas.Series(list(range(0, int(TimestampSeaflow_secFromStart_alt[len(TimestampSeaflow_secFromStart_alt)-1]), 2000))), *popt_varPer), 'r-', label = 'Sinusoidal curve fit with period length allowed to vary')\n",
    "ax2.plot(TimestampSeaflow_secFromStart_alt, multWaves_func_varPer_4(TimestampSeaflow_secFromStart_alt, *popt_varPer_SeaFlow), 'r-')\n",
    "plt.xlabel('Time (seconds since experiment start)')\n",
    "\n",
    "fig.legend(bbox_to_anchor=(.8, .8))\n",
    "\n",
    "# set matplotlib timezone back\n",
    "plt.rcParams['timezone'] = current_matplotTZ\n"
   ]
  },
  {
   "cell_type": "markdown",
   "metadata": {},
   "source": [
    "### Some better looking plots"
   ]
  },
  {
   "cell_type": "markdown",
   "metadata": {},
   "source": [
    "#### Seaflow data and some of the sulfonate species together"
   ]
  },
  {
   "cell_type": "code",
   "execution_count": null,
   "metadata": {},
   "outputs": [],
   "source": [
    "# get, store current timezone setting\n",
    "current_matplotTZ = plt.rcParams['timezone']\n",
    "# set to 'Pacific/Honolulu' temporarily\n",
    "plt.rcParams['timezone'] = 'Pacific/Honolulu' \n",
    "\n",
    "fig = plt.figure(figsize=(14, 18))\n",
    "\n",
    "# plot SeaFlow data\n",
    "\n",
    "ax1 = fig.add_subplot(511)\n",
    "ax1.plot(dielSeaFlow.trunc['Timestamp_ISO8601'],dielSeaFlow.trunc['Cbiomass_umol.L'], 'b.', label = 'SeaFlow biomass (umol/L)')\n",
    "ax1.xaxis.set_major_locator(pltdates.DayLocator(interval=1))\n",
    "ax1.xaxis.set_minor_locator(pltdates.HourLocator(byhour=12))\n",
    "ax1.xaxis.set_major_formatter(pltdates.DateFormatter('%H:%M%\\n%b %d %Y')) \n",
    "ax1.xaxis.set_minor_formatter(pltdates.DateFormatter('%H:%M')) \n",
    "ax1.xaxis_date(pytz.timezone('Pacific/Honolulu'))\n",
    "plt.ylabel('SeaFlow biomass (umol/L)')\n",
    "ax1.margins(0)\n",
    "plt.annotate('r$^2$ = '+str(round(r_squared_varPer_SeaFlow,2)), xy=(0.015, 0.9), xycoords='axes fraction')\n",
    "plt.annotate('All model parameters significant at p $\\leq$ 0.05', xy=(0.015, 0.8), xycoords='axes fraction')\n",
    "\n",
    "ax2 = ax1.twiny()\n",
    "ax2.plot(TimestampSeaflow_secFromStart_alt, multWaves_func_varPer_4(TimestampSeaflow_secFromStart_alt, *popt_varPer_SeaFlow), 'r-')\n",
    "plt.xlabel('Time (seconds since experiment start)')\n",
    "ax2.margins(0)\n",
    "\n",
    "\n",
    "# plot cysteinolic acid data\n",
    "\n",
    "ax3 = fig.add_subplot(512)\n",
    "ax3.plot(TimestampCysteinolic_noNan,ConcCysteinolic_noNan, 'b.', label = 'Cysteinolic acid concentration (data)')\n",
    "ax3.xaxis.set_major_locator(pltdates.DayLocator(interval=1))\n",
    "ax3.xaxis.set_minor_locator(pltdates.HourLocator(byhour=12))\n",
    "ax3.xaxis.set_major_formatter(pltdates.DateFormatter('%H:%M%\\n%b %d %Y')) \n",
    "ax3.xaxis.set_minor_formatter(pltdates.DateFormatter('%H:%M')) \n",
    "ax3.xaxis_date(pytz.timezone('Pacific/Honolulu'))\n",
    "plt.ylabel('Cysteinolic acid (pmol/L)')\n",
    "ax3.margins(0)\n",
    "plt.annotate('r$^2$ = '+str(round(r_squared_varPer_Cysteinolic,2)), xy=(0.015, 0.9), xycoords='axes fraction')\n",
    "plt.annotate('No model parameters significant at p $\\leq$ 0.05', xy=(0.015, 0.8), xycoords='axes fraction')\n",
    "\n",
    "ax4 = ax3.twiny()\n",
    "ax4.plot(pandas.Series(list(range(0, int(TimestampCysteinolic_secFromStart_alt[len(TimestampCysteinolic_secFromStart_alt)-1]), 2000))), multWaves_func_varPer_4(\n",
    "   pandas.Series(list(range(0, int(TimestampCysteinolic_secFromStart_alt[len(TimestampCysteinolic_secFromStart_alt)-1]), 2000))), *popt_varPer_Cysteinolic), 'r-', label = 'Sinusoidal curve fit with period length allowed to vary')\n",
    "ax4.xaxis.set_visible(False)\n",
    "ax4.margins(0)\n",
    "\n",
    "# plot isethionic acid data\n",
    "\n",
    "# get a relative x-axis length so we know how long to make the secondary x axis\n",
    "rel_xaxlength = (max(dielSeaFlow.trunc['Timestamp_ISO8601'])-min(dielSeaFlow.trunc['Timestamp_ISO8601']))/(\n",
    "    max(TimestampIsethionic_noNan)-min(TimestampIsethionic_noNan))\n",
    "\n",
    "ax5 = fig.add_subplot(513, sharex = ax3)\n",
    "ax5.plot(TimestampIsethionic_noNan,ConcIsethionic_noNan, 'b.', label = 'Isethionic acid concentration (data)')\n",
    "ax5.xaxis.set_major_locator(pltdates.DayLocator(interval=1))\n",
    "ax5.xaxis.set_minor_locator(pltdates.HourLocator(byhour=12))\n",
    "ax5.xaxis.set_major_formatter(pltdates.DateFormatter('%H:%M%\\n%b %d %Y')) \n",
    "ax5.xaxis.set_minor_formatter(pltdates.DateFormatter('%H:%M')) \n",
    "ax5.xaxis_date(pytz.timezone('Pacific/Honolulu'))\n",
    "plt.ylabel('Isethionic acid (pmol/L)')\n",
    "ax5.margins(0)\n",
    "plt.annotate('r$^2$ = '+str(round(r_squared_varPer_Isethionic,2)), xy=(0.015, 0.9), xycoords='axes fraction')\n",
    "plt.annotate('No model parameters significant at p $\\leq$ 0.05', xy=(0.015, 0.8), xycoords='axes fraction')\n",
    "\n",
    "ax6 = ax5.twiny()\n",
    "ax6.plot(pandas.Series(list(range(0, int(TimestampIsethionic_secFromStart_alt[len(TimestampIsethionic_secFromStart_alt)-1]), 2000))),\n",
    "         multWaves_func_varPer_3(\n",
    "   pandas.Series(list(range(0, int(TimestampIsethionic_secFromStart_alt[len(TimestampIsethionic_secFromStart_alt)-1]), 2000))), *popt_varPer_Isethionic),\n",
    "         'r-',\n",
    "         label = 'Sinusoidal curve fit with period length allowed to vary')\n",
    "ax6.set_xlim(0,max(pandas.Series(list(range(0, int(TimestampIsethionic_secFromStart_alt[len(TimestampIsethionic_secFromStart_alt)-1]), 2000))))*rel_xaxlength)\n",
    "ax6.xaxis.set_visible(False)\n",
    "ax6.margins(0)\n",
    "\n",
    "# plot DHPS data\n",
    "\n",
    "# get a relative x-axis length so we know how long to make the secondary x axis\n",
    "rel_xaxlength = (max(dielSeaFlow.trunc['Timestamp_ISO8601'])-min(dielSeaFlow.trunc['Timestamp_ISO8601']))/(\n",
    "    max(TimestampDHPS_noNan)-min(TimestampDHPS_noNan))\n",
    "\n",
    "ax7 = fig.add_subplot(514, sharex = ax3)\n",
    "ax7.plot(TimestampDHPS_noNan,ConcDHPS_noNan, 'b.', label = 'DHPS (data)')\n",
    "ax7.xaxis.set_major_locator(pltdates.DayLocator(interval=1))\n",
    "ax7.xaxis.set_minor_locator(pltdates.HourLocator(byhour=12))\n",
    "ax7.xaxis.set_major_formatter(pltdates.DateFormatter('%H:%M%\\n%b %d %Y')) \n",
    "ax7.xaxis.set_minor_formatter(pltdates.DateFormatter('%H:%M')) \n",
    "ax7.xaxis_date(pytz.timezone('Pacific/Honolulu'))\n",
    "plt.ylabel('DHPS (pmol/L)')\n",
    "ax7.margins(0)\n",
    "plt.annotate('r$^2$ = '+str(round(r_squared_varPer_DHPS,2)), xy=(0.015, 0.9), xycoords='axes fraction')\n",
    "\n",
    "ax8 = ax7.twiny()\n",
    "ax8.plot(pandas.Series(list(range(0, int(TimestampDHPS_secFromStart_alt[len(TimestampDHPS_secFromStart_alt)-1]), 2000))),\n",
    "         multWaves_func_varPer_3(\n",
    "   pandas.Series(list(range(0, int(TimestampDHPS_secFromStart_alt[len(TimestampDHPS_secFromStart_alt)-1]), 2000))), *popt_varPer_DHPS),\n",
    "         'r-',\n",
    "         label = 'Sinusoidal curve fit with period length allowed to vary')\n",
    "ax8.set_xlim(0,max(pandas.Series(list(range(0, int(TimestampDHPS_secFromStart_alt[len(TimestampDHPS_secFromStart_alt)-1]), 2000))))*rel_xaxlength)\n",
    "ax8.xaxis.set_visible(False)\n",
    "ax8.margins(0)\n",
    "\n",
    "# plot taurine data\n",
    "\n",
    "# get a relative x-axis length so we know how long to make the secondary x axis\n",
    "rel_xaxlength = (max(dielSeaFlow.trunc['Timestamp_ISO8601'])-min(dielSeaFlow.trunc['Timestamp_ISO8601']))/(\n",
    "    max(TimestampTaurine_noNan)-min(TimestampTaurine_noNan))\n",
    "\n",
    "ax9 = fig.add_subplot(515, sharex = ax3)\n",
    "ax9.plot(TimestampTaurine_noNan,ConcTaurine_noNan, 'b.', label = 'Taurine (data)')\n",
    "ax9.xaxis.set_major_locator(pltdates.DayLocator(interval=1))\n",
    "ax9.xaxis.set_minor_locator(pltdates.HourLocator(byhour=12))\n",
    "ax9.xaxis.set_major_formatter(pltdates.DateFormatter('%H:%M%\\n%b %d %Y')) \n",
    "ax9.xaxis.set_minor_formatter(pltdates.DateFormatter('%H:%M')) \n",
    "ax9.xaxis_date(pytz.timezone('Pacific/Honolulu'))\n",
    "plt.ylabel('Taurine (pmol/L)')\n",
    "ax9.margins(0)\n",
    "plt.annotate('r$^2$ = '+str(round(r_squared_varPer_Taurine,2)), xy=(0.015, 0.9), xycoords='axes fraction')\n",
    "\n",
    "ax10 = ax9.twiny()\n",
    "ax10.plot(pandas.Series(list(range(0, int(TimestampTaurine_secFromStart_alt[len(TimestampTaurine_secFromStart_alt)-1]), 2000))),\n",
    "         multWaves_func_varPer_3(\n",
    "   pandas.Series(list(range(0, int(TimestampTaurine_secFromStart_alt[len(TimestampTaurine_secFromStart_alt)-1]), 2000))), *popt_varPer_Taurine),\n",
    "         'r-',\n",
    "         label = 'Sinusoidal curve fit with period length allowed to vary')\n",
    "ax10.set_xlim(0,max(pandas.Series(list(range(0, int(TimestampTaurine_secFromStart_alt[len(TimestampTaurine_secFromStart_alt)-1]), 2000))))*rel_xaxlength)\n",
    "ax10.xaxis.set_visible(False)\n",
    "ax10.margins(0)\n",
    "\n",
    "\n",
    "# set matplotlib timezone back\n",
    "plt.rcParams['timezone'] = current_matplotTZ"
   ]
  },
  {
   "cell_type": "code",
   "execution_count": null,
   "metadata": {},
   "outputs": [],
   "source": [
    "### Generate some "
   ]
  },
  {
   "cell_type": "markdown",
   "metadata": {},
   "source": [
    "### Some suggestions from presentation to lab on 9 May"
   ]
  },
  {
   "cell_type": "markdown",
   "metadata": {},
   "source": [
    "- adaptive regression\n",
    "- data perhaps too sparse for FFT\n",
    "- JTK cycle to validate sinusoidal behavior?"
   ]
  },
  {
   "cell_type": "markdown",
   "metadata": {},
   "source": [
    "### Some maxima/minima and amplitude-change calculations"
   ]
  },
  {
   "cell_type": "code",
   "execution_count": null,
   "metadata": {},
   "outputs": [],
   "source": []
  }
 ],
 "metadata": {
  "kernelspec": {
   "display_name": "Python 3",
   "language": "python",
   "name": "python3"
  },
  "language_info": {
   "codemirror_mode": {
    "name": "ipython",
    "version": 3
   },
   "file_extension": ".py",
   "mimetype": "text/x-python",
   "name": "python",
   "nbconvert_exporter": "python",
   "pygments_lexer": "ipython3",
   "version": "3.6.4"
  }
 },
 "nbformat": 4,
 "nbformat_minor": 2
}
